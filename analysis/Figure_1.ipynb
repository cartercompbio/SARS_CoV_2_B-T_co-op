{
 "cells": [
  {
   "cell_type": "markdown",
   "metadata": {},
   "source": [
    "### Figure 1A - heatmap/sequence of RBD + NAb contact"
   ]
  },
  {
   "cell_type": "code",
   "execution_count": 1,
   "metadata": {},
   "outputs": [],
   "source": [
    "import pandas as pd\n",
    "from Bio.SeqIO import parse\n",
    "import numpy as np\n",
    "import re"
   ]
  },
  {
   "cell_type": "code",
   "execution_count": 2,
   "metadata": {},
   "outputs": [
    {
     "name": "stderr",
     "output_type": "stream",
     "text": [
      "/cellar/users/andreabc/miniconda3/lib/python3.6/site-packages/statsmodels/tools/_testing.py:19: FutureWarning: pandas.util.testing is deprecated. Use the functions in the public API at pandas.testing instead.\n",
      "  import pandas.util.testing as tm\n"
     ]
    }
   ],
   "source": [
    "import matplotlib.pyplot as plt\n",
    "import matplotlib.gridspec as gridspec\n",
    "import seaborn as sns\n",
    "sns.set_style('white')\n",
    "sns.set_style('ticks')\n",
    "%matplotlib inline\n",
    "\n",
    "import matplotlib as mpl\n",
    "mpl.rcParams['pdf.fonttype'] = 42"
   ]
  },
  {
   "cell_type": "markdown",
   "metadata": {},
   "source": [
    "### 1. Load data"
   ]
  },
  {
   "cell_type": "code",
   "execution_count": 3,
   "metadata": {},
   "outputs": [
    {
     "name": "stdout",
     "output_type": "stream",
     "text": [
      "(17, 2)\n"
     ]
    },
    {
     "data": {
      "text/html": [
       "<div>\n",
       "<style scoped>\n",
       "    .dataframe tbody tr th:only-of-type {\n",
       "        vertical-align: middle;\n",
       "    }\n",
       "\n",
       "    .dataframe tbody tr th {\n",
       "        vertical-align: top;\n",
       "    }\n",
       "\n",
       "    .dataframe thead th {\n",
       "        text-align: right;\n",
       "    }\n",
       "</style>\n",
       "<table border=\"1\" class=\"dataframe\">\n",
       "  <thead>\n",
       "    <tr style=\"text-align: right;\">\n",
       "      <th></th>\n",
       "      <th>paper</th>\n",
       "      <th>notes</th>\n",
       "    </tr>\n",
       "    <tr>\n",
       "      <th>contact_residues</th>\n",
       "      <th></th>\n",
       "      <th></th>\n",
       "    </tr>\n",
       "  </thead>\n",
       "  <tbody>\n",
       "    <tr>\n",
       "      <th>K417</th>\n",
       "      <td>Lan2020Nature</td>\n",
       "      <td>NaN</td>\n",
       "    </tr>\n",
       "    <tr>\n",
       "      <th>G446</th>\n",
       "      <td>Lan2020Nature</td>\n",
       "      <td>NaN</td>\n",
       "    </tr>\n",
       "  </tbody>\n",
       "</table>\n",
       "</div>"
      ],
      "text/plain": [
       "                          paper notes\n",
       "contact_residues                     \n",
       "K417              Lan2020Nature   NaN\n",
       "G446              Lan2020Nature   NaN"
      ]
     },
     "execution_count": 3,
     "metadata": {},
     "output_type": "execute_result"
    }
   ],
   "source": [
    "ace2_contact_df = pd.read_csv('../data/refs/SARS2_ACE2_contact_residues.Lan_and_Shang_2020_Nature.txt', \n",
    "                              sep='\\t', index_col=0)\n",
    "ace2_contact_df = ace2_contact_df[ace2_contact_df['paper']=='Lan2020Nature']\n",
    "print(ace2_contact_df.shape)\n",
    "ace2_contact_df.head(2)"
   ]
  },
  {
   "cell_type": "code",
   "execution_count": 4,
   "metadata": {},
   "outputs": [
    {
     "name": "stdout",
     "output_type": "stream",
     "text": [
      "(141, 7)\n"
     ]
    },
    {
     "data": {
      "text/html": [
       "<div>\n",
       "<style scoped>\n",
       "    .dataframe tbody tr th:only-of-type {\n",
       "        vertical-align: middle;\n",
       "    }\n",
       "\n",
       "    .dataframe tbody tr th {\n",
       "        vertical-align: top;\n",
       "    }\n",
       "\n",
       "    .dataframe thead th {\n",
       "        text-align: right;\n",
       "    }\n",
       "</style>\n",
       "<table border=\"1\" class=\"dataframe\">\n",
       "  <thead>\n",
       "    <tr style=\"text-align: right;\">\n",
       "      <th></th>\n",
       "      <th>contact_residues</th>\n",
       "      <th>Ab_name</th>\n",
       "      <th>paper</th>\n",
       "      <th>DOI</th>\n",
       "      <th>notes</th>\n",
       "      <th>aa</th>\n",
       "      <th>pos</th>\n",
       "    </tr>\n",
       "  </thead>\n",
       "  <tbody>\n",
       "    <tr>\n",
       "      <th>0</th>\n",
       "      <td>K378</td>\n",
       "      <td>2196*</td>\n",
       "      <td>Zost</td>\n",
       "      <td>https://doi.org/10.1038/s41586-020-2548-6</td>\n",
       "      <td>critical_residues</td>\n",
       "      <td>K</td>\n",
       "      <td>377</td>\n",
       "    </tr>\n",
       "    <tr>\n",
       "      <th>1</th>\n",
       "      <td>K386</td>\n",
       "      <td>2196*</td>\n",
       "      <td>Zost</td>\n",
       "      <td>https://doi.org/10.1038/s41586-020-2548-6</td>\n",
       "      <td>critical_residues</td>\n",
       "      <td>K</td>\n",
       "      <td>385</td>\n",
       "    </tr>\n",
       "  </tbody>\n",
       "</table>\n",
       "</div>"
      ],
      "text/plain": [
       "  contact_residues Ab_name paper                                        DOI  \\\n",
       "0             K378   2196*  Zost  https://doi.org/10.1038/s41586-020-2548-6   \n",
       "1             K386   2196*  Zost  https://doi.org/10.1038/s41586-020-2548-6   \n",
       "\n",
       "               notes aa  pos  \n",
       "0  critical_residues  K  377  \n",
       "1  critical_residues  K  385  "
      ]
     },
     "execution_count": 4,
     "metadata": {},
     "output_type": "execute_result"
    }
   ],
   "source": [
    "ab_contact_df = pd.read_csv('../data/refs/SARS2_NAb_contact_residues.txt', sep='\\t')\n",
    "\n",
    "# add pos col for sorting\n",
    "ab_contact_df['aa'] = ab_contact_df['contact_residues'].apply(lambda x: x[0])\n",
    "ab_contact_df['pos'] = ab_contact_df['contact_residues'].apply(lambda x: int(x[1:])-1)\n",
    "\n",
    "print(ab_contact_df.shape)\n",
    "ab_contact_df.head(2)"
   ]
  },
  {
   "cell_type": "code",
   "execution_count": 5,
   "metadata": {},
   "outputs": [
    {
     "data": {
      "text/plain": [
       "['M1', 'F2', 'V3', 'F4', 'L5']"
      ]
     },
     "execution_count": 5,
     "metadata": {},
     "output_type": "execute_result"
    }
   ],
   "source": [
    "# spike protein reference\n",
    "with open('../data/refs/P0DTC2.fasta', 'r') as handle:\n",
    "    for line in parse(handle, 'fasta'):\n",
    "        sp = str(line.seq)\n",
    "\n",
    "# get ref residues\n",
    "ref_residues = ['{}{}'.format(aa,i+1) for i, aa in enumerate(sp)]\n",
    "ref_residues[:5]"
   ]
  },
  {
   "cell_type": "code",
   "execution_count": 6,
   "metadata": {},
   "outputs": [],
   "source": [
    "region_domains = {\n",
    "    'RBD (319-541)': (319-1,541, 'orange'),\n",
    "    'RBD motif (437-508)': (437-1, 508, 'red'),\n",
    "    'Fusion peptide 1 (816-837)': (816-1, 837, 'lightgreen'),\n",
    "    'Fusion peptide 2 (835-855)': (835-1, 855, 'darkgreen'),\n",
    "    'Heptad repeat 1 (920-970)': (920-1, 970, 'darkblue'),\n",
    "    'Heptad repeat 2 (1163-1202)': (1163-1, 1202, 'blue')\n",
    "}"
   ]
  },
  {
   "cell_type": "markdown",
   "metadata": {},
   "source": [
    "### Plot\n",
    "- Only RBM positions"
   ]
  },
  {
   "cell_type": "code",
   "execution_count": 7,
   "metadata": {
    "scrolled": true
   },
   "outputs": [
    {
     "data": {
      "text/html": [
       "<div>\n",
       "<style scoped>\n",
       "    .dataframe tbody tr th:only-of-type {\n",
       "        vertical-align: middle;\n",
       "    }\n",
       "\n",
       "    .dataframe tbody tr th {\n",
       "        vertical-align: top;\n",
       "    }\n",
       "\n",
       "    .dataframe thead th {\n",
       "        text-align: right;\n",
       "    }\n",
       "</style>\n",
       "<table border=\"1\" class=\"dataframe\">\n",
       "  <thead>\n",
       "    <tr style=\"text-align: right;\">\n",
       "      <th>Ab_name</th>\n",
       "      <th>2196*</th>\n",
       "      <th>B38</th>\n",
       "      <th>CB6</th>\n",
       "      <th>CC12.3</th>\n",
       "      <th>S2H14</th>\n",
       "    </tr>\n",
       "    <tr>\n",
       "      <th>contact_residues</th>\n",
       "      <th></th>\n",
       "      <th></th>\n",
       "      <th></th>\n",
       "      <th></th>\n",
       "      <th></th>\n",
       "    </tr>\n",
       "  </thead>\n",
       "  <tbody>\n",
       "    <tr>\n",
       "      <th>A475</th>\n",
       "      <td>NaN</td>\n",
       "      <td>1.0</td>\n",
       "      <td>1.0</td>\n",
       "      <td>1.0</td>\n",
       "      <td>1.0</td>\n",
       "    </tr>\n",
       "    <tr>\n",
       "      <th>F456</th>\n",
       "      <td>NaN</td>\n",
       "      <td>1.0</td>\n",
       "      <td>1.0</td>\n",
       "      <td>1.0</td>\n",
       "      <td>1.0</td>\n",
       "    </tr>\n",
       "  </tbody>\n",
       "</table>\n",
       "</div>"
      ],
      "text/plain": [
       "Ab_name           2196*  B38  CB6  CC12.3  S2H14\n",
       "contact_residues                                \n",
       "A475                NaN  1.0  1.0     1.0    1.0\n",
       "F456                NaN  1.0  1.0     1.0    1.0"
      ]
     },
     "execution_count": 7,
     "metadata": {},
     "output_type": "execute_result"
    }
   ],
   "source": [
    "rbm_contact_df = ab_contact_df[ab_contact_df['pos'].isin(range(*region_domains['RBD motif (437-508)'][:2]))]\n",
    "rbm_contact_df = rbm_contact_df.sort_values(by='pos', ascending=True)\n",
    "rbm_contact_df = rbm_contact_df.pivot_table(index='contact_residues', columns='Ab_name', values='pos', aggfunc='count')\n",
    "\n",
    "rbm_contact_df.head(2)"
   ]
  },
  {
   "cell_type": "code",
   "execution_count": 8,
   "metadata": {
    "scrolled": true
   },
   "outputs": [
    {
     "data": {
      "text/html": [
       "<div>\n",
       "<style scoped>\n",
       "    .dataframe tbody tr th:only-of-type {\n",
       "        vertical-align: middle;\n",
       "    }\n",
       "\n",
       "    .dataframe tbody tr th {\n",
       "        vertical-align: top;\n",
       "    }\n",
       "\n",
       "    .dataframe thead th {\n",
       "        text-align: right;\n",
       "    }\n",
       "</style>\n",
       "<table border=\"1\" class=\"dataframe\">\n",
       "  <thead>\n",
       "    <tr style=\"text-align: right;\">\n",
       "      <th></th>\n",
       "    </tr>\n",
       "    <tr>\n",
       "      <th>0</th>\n",
       "    </tr>\n",
       "  </thead>\n",
       "  <tbody>\n",
       "    <tr>\n",
       "      <th>W436</th>\n",
       "    </tr>\n",
       "    <tr>\n",
       "      <th>N437</th>\n",
       "    </tr>\n",
       "  </tbody>\n",
       "</table>\n",
       "</div>"
      ],
      "text/plain": [
       "Empty DataFrame\n",
       "Columns: []\n",
       "Index: [W436, N437]"
      ]
     },
     "execution_count": 8,
     "metadata": {},
     "output_type": "execute_result"
    }
   ],
   "source": [
    "ref_residues = pd.DataFrame([x for x in ref_residues if int(x[1:]) in range(*region_domains['RBD motif (437-508)'][:2])]).set_index(0)\n",
    "ref_residues.head(2)"
   ]
  },
  {
   "cell_type": "code",
   "execution_count": 9,
   "metadata": {},
   "outputs": [
    {
     "data": {
      "text/html": [
       "<div>\n",
       "<style scoped>\n",
       "    .dataframe tbody tr th:only-of-type {\n",
       "        vertical-align: middle;\n",
       "    }\n",
       "\n",
       "    .dataframe tbody tr th {\n",
       "        vertical-align: top;\n",
       "    }\n",
       "\n",
       "    .dataframe thead th {\n",
       "        text-align: right;\n",
       "    }\n",
       "</style>\n",
       "<table border=\"1\" class=\"dataframe\">\n",
       "  <thead>\n",
       "    <tr style=\"text-align: right;\">\n",
       "      <th></th>\n",
       "      <th>2196*</th>\n",
       "      <th>B38</th>\n",
       "      <th>CB6</th>\n",
       "      <th>CC12.3</th>\n",
       "      <th>S2H14</th>\n",
       "    </tr>\n",
       "  </thead>\n",
       "  <tbody>\n",
       "    <tr>\n",
       "      <th>W</th>\n",
       "      <td>0.0</td>\n",
       "      <td>0.0</td>\n",
       "      <td>0.0</td>\n",
       "      <td>0.0</td>\n",
       "      <td>0.0</td>\n",
       "    </tr>\n",
       "    <tr>\n",
       "      <th>N</th>\n",
       "      <td>0.0</td>\n",
       "      <td>0.0</td>\n",
       "      <td>0.0</td>\n",
       "      <td>0.0</td>\n",
       "      <td>0.0</td>\n",
       "    </tr>\n",
       "  </tbody>\n",
       "</table>\n",
       "</div>"
      ],
      "text/plain": [
       "   2196*  B38  CB6  CC12.3  S2H14\n",
       "W    0.0  0.0  0.0     0.0    0.0\n",
       "N    0.0  0.0  0.0     0.0    0.0"
      ]
     },
     "execution_count": 9,
     "metadata": {},
     "output_type": "execute_result"
    }
   ],
   "source": [
    "# add reference residues for completeness\n",
    "heatmap_df = ref_residues.join(rbm_contact_df, how='left').fillna(0)\n",
    "\n",
    "# just show amino acid for heatmap\n",
    "heatmap_df.index = [x[0] for x in heatmap_df.index] \n",
    "heatmap_df.head(2)"
   ]
  },
  {
   "cell_type": "code",
   "execution_count": 10,
   "metadata": {},
   "outputs": [
    {
     "data": {
      "text/html": [
       "<div>\n",
       "<style scoped>\n",
       "    .dataframe tbody tr th:only-of-type {\n",
       "        vertical-align: middle;\n",
       "    }\n",
       "\n",
       "    .dataframe tbody tr th {\n",
       "        vertical-align: top;\n",
       "    }\n",
       "\n",
       "    .dataframe thead th {\n",
       "        text-align: right;\n",
       "    }\n",
       "</style>\n",
       "<table border=\"1\" class=\"dataframe\">\n",
       "  <thead>\n",
       "    <tr style=\"text-align: right;\">\n",
       "      <th></th>\n",
       "      <th>2196*</th>\n",
       "      <th>B38</th>\n",
       "      <th>CB6</th>\n",
       "      <th>CC12.3</th>\n",
       "      <th>S2H14</th>\n",
       "    </tr>\n",
       "  </thead>\n",
       "  <tbody>\n",
       "    <tr>\n",
       "      <th>W</th>\n",
       "      <td></td>\n",
       "      <td></td>\n",
       "      <td></td>\n",
       "      <td></td>\n",
       "      <td></td>\n",
       "    </tr>\n",
       "    <tr>\n",
       "      <th>N</th>\n",
       "      <td></td>\n",
       "      <td></td>\n",
       "      <td></td>\n",
       "      <td></td>\n",
       "      <td></td>\n",
       "    </tr>\n",
       "    <tr>\n",
       "      <th>S</th>\n",
       "      <td></td>\n",
       "      <td></td>\n",
       "      <td></td>\n",
       "      <td></td>\n",
       "      <td></td>\n",
       "    </tr>\n",
       "    <tr>\n",
       "      <th>N</th>\n",
       "      <td></td>\n",
       "      <td></td>\n",
       "      <td></td>\n",
       "      <td></td>\n",
       "      <td></td>\n",
       "    </tr>\n",
       "    <tr>\n",
       "      <th>N</th>\n",
       "      <td></td>\n",
       "      <td></td>\n",
       "      <td></td>\n",
       "      <td></td>\n",
       "      <td></td>\n",
       "    </tr>\n",
       "  </tbody>\n",
       "</table>\n",
       "</div>"
      ],
      "text/plain": [
       "  2196* B38 CB6 CC12.3 S2H14\n",
       "W                           \n",
       "N                           \n",
       "S                           \n",
       "N                           \n",
       "N                           "
      ]
     },
     "execution_count": 10,
     "metadata": {},
     "output_type": "execute_result"
    }
   ],
   "source": [
    "# make ACE2 binding annotation df\n",
    "ace2_contact_df = ref_residues.join(ace2_contact_df, how='left')\n",
    "ace2_contact_df['ACE2 contact'] = ace2_contact_df['paper'].apply(lambda x: '•' if x is not np.nan else '')\n",
    "\n",
    "ace2_annot_df = heatmap_df.copy()\n",
    "for ab in ab_contact_df['Ab_name'].unique():\n",
    "    ace2_annot_df[ab] = ace2_contact_df[['ACE2 contact']].values\n",
    "ace2_annot_df.head()"
   ]
  },
  {
   "cell_type": "markdown",
   "metadata": {},
   "source": [
    "### Make Fig 1"
   ]
  },
  {
   "cell_type": "code",
   "execution_count": 11,
   "metadata": {},
   "outputs": [
    {
     "name": "stdout",
     "output_type": "stream",
     "text": [
      "Saving to ../data/figures/Fig1D.pdf\n"
     ]
    },
    {
     "data": {
      "image/png": "[encoded data removed]",
      "text/plain": [
       "<Figure size 864x432 with 1 Axes>"
      ]
     },
     "metadata": {
      "needs_background": "light"
     },
     "output_type": "display_data"
    }
   ],
   "source": [
    "ab_order = ['B38', '2196*','CB6', 'CC12.3', 'S2H14']\n",
    "\n",
    "plt.figure(figsize=(12,6))\n",
    "ax = sns.heatmap(heatmap_df[ab_order].T, annot=ace2_annot_df[ab_order].T, fmt = '', annot_kws={'color': 'k'},\n",
    "            square=True, xticklabels=True, yticklabels=True, cmap='Purples', cbar=False, \n",
    "                 lw=0.15, alpha=0.2, linecolor='k')\n",
    "plt.title('Contact residues between neutralizing antibodies and the SARS-CoV-2 RBM')\n",
    "plt.xlabel('SARS-CoV-2 RBM (437-508)'), plt.ylabel('NAbs')\n",
    "\n",
    "for i, tick in enumerate(ax.get_xticklabels()):\n",
    "    pos = i+437\n",
    "    if pos in range(487,490+1):\n",
    "        color = 'red'\n",
    "        bbox = dict(boxstyle=\"round\", color=color, alpha=0.4, pad=0.15, lw=0) \n",
    "        plt.setp(tick, bbox=bbox)\n",
    "\n",
    "savepath = '../data/figures/Fig1D.pdf'\n",
    "print('Saving to {}'.format(savepath))\n",
    "plt.savefig(savepath)\n",
    "\n",
    "plt.show()"
   ]
  },
  {
   "cell_type": "code",
   "execution_count": null,
   "metadata": {},
   "outputs": [],
   "source": []
  }
 ],
 "metadata": {
  "kernelspec": {
   "display_name": "Python 3",
   "language": "python",
   "name": "python3"
  },
  "language_info": {
   "codemirror_mode": {
    "name": "ipython",
    "version": 3
   },
   "file_extension": ".py",
   "mimetype": "text/x-python",
   "name": "python",
   "nbconvert_exporter": "python",
   "pygments_lexer": "ipython3",
   "version": "3.6.8"
  }
 },
 "nbformat": 4,
 "nbformat_minor": 4
}
