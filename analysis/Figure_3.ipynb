{
 "cells": [
  {
   "cell_type": "markdown",
   "metadata": {},
   "source": [
    "### Figure 3\n",
    "- Population variation affecting availability of FNCY proximal T cell epitopes\n",
    "    - Panel 1: Allele frequencies / supertypes\n",
    "    - Panel 2: Supertype resolution of epitope affinity in ROI"
   ]
  },
  {
   "cell_type": "code",
   "execution_count": 1,
   "metadata": {},
   "outputs": [
    {
     "name": "stderr",
     "output_type": "stream",
     "text": [
      "/cellar/users/andreabc/miniconda3/lib/python3.6/site-packages/statsmodels/tools/_testing.py:19: FutureWarning: pandas.util.testing is deprecated. Use the functions in the public API at pandas.testing instead.\n",
      "  import pandas.util.testing as tm\n"
     ]
    }
   ],
   "source": [
    "import pandas as pd\n",
    "import numpy as np\n",
    "from collections import defaultdict\n",
    "from more_itertools import consecutive_groups \n",
    "from Bio.SeqIO import parse\n",
    "\n",
    "from scipy.stats import pearsonr, chi2_contingency\n",
    "\n",
    "import matplotlib.pyplot as plt\n",
    "import matplotlib.gridspec as gridspec\n",
    "import seaborn as sns\n",
    "sns.set_style('white')\n",
    "sns.set_style('ticks')\n",
    "%matplotlib inline\n",
    "\n",
    "import matplotlib as mpl\n",
    "mpl.rcParams['pdf.fonttype'] = 42"
   ]
  },
  {
   "cell_type": "markdown",
   "metadata": {},
   "source": [
    "### Load data"
   ]
  },
  {
   "cell_type": "code",
   "execution_count": 2,
   "metadata": {},
   "outputs": [
    {
     "name": "stdout",
     "output_type": "stream",
     "text": [
      "1273\n"
     ]
    },
    {
     "data": {
      "text/plain": [
       "'MFVFLVLLPL'"
      ]
     },
     "execution_count": 2,
     "metadata": {},
     "output_type": "execute_result"
    }
   ],
   "source": [
    "with open('../data/refs/P0DTC2.fasta', 'r') as handle:\n",
    "    for line in parse(handle, 'fasta'):\n",
    "        sp = str(line.seq)\n",
    "print(len(sp))\n",
    "sp[:10]"
   ]
  },
  {
   "cell_type": "markdown",
   "metadata": {},
   "source": [
    "##### Supertype alleles"
   ]
  },
  {
   "cell_type": "code",
   "execution_count": 3,
   "metadata": {},
   "outputs": [
    {
     "name": "stdout",
     "output_type": "stream",
     "text": [
      "(279, 4)\n"
     ]
    },
    {
     "data": {
      "text/html": [
       "<div>\n",
       "<style scoped>\n",
       "    .dataframe tbody tr th:only-of-type {\n",
       "        vertical-align: middle;\n",
       "    }\n",
       "\n",
       "    .dataframe tbody tr th {\n",
       "        vertical-align: top;\n",
       "    }\n",
       "\n",
       "    .dataframe thead th {\n",
       "        text-align: right;\n",
       "    }\n",
       "</style>\n",
       "<table border=\"1\" class=\"dataframe\">\n",
       "  <thead>\n",
       "    <tr style=\"text-align: right;\">\n",
       "      <th></th>\n",
       "      <th>supertype</th>\n",
       "      <th>alleles</th>\n",
       "      <th>class</th>\n",
       "      <th>expanded_alleles</th>\n",
       "    </tr>\n",
       "  </thead>\n",
       "  <tbody>\n",
       "    <tr>\n",
       "      <th>0</th>\n",
       "      <td>main_DP</td>\n",
       "      <td>DPB10101</td>\n",
       "      <td>classII</td>\n",
       "      <td>HLA-DPA10401-DPB10101</td>\n",
       "    </tr>\n",
       "    <tr>\n",
       "      <th>1</th>\n",
       "      <td>main_DP</td>\n",
       "      <td>DPB10101</td>\n",
       "      <td>classII</td>\n",
       "      <td>HLA-DPA10103-DPB10101</td>\n",
       "    </tr>\n",
       "  </tbody>\n",
       "</table>\n",
       "</div>"
      ],
      "text/plain": [
       "  supertype   alleles    class       expanded_alleles\n",
       "0   main_DP  DPB10101  classII  HLA-DPA10401-DPB10101\n",
       "1   main_DP  DPB10101  classII  HLA-DPA10103-DPB10101"
      ]
     },
     "execution_count": 3,
     "metadata": {},
     "output_type": "execute_result"
    }
   ],
   "source": [
    "# supertype alleles used\n",
    "supertype_df = pd.read_csv('../data/generated_data/supertype_expanded_alleles.tsv', sep='\\t')\n",
    "print(supertype_df.shape)\n",
    "supertype_df.head(2)"
   ]
  },
  {
   "cell_type": "markdown",
   "metadata": {},
   "source": [
    "##### Supertype frequencies"
   ]
  },
  {
   "cell_type": "code",
   "execution_count": 4,
   "metadata": {},
   "outputs": [
    {
     "data": {
      "text/html": [
       "<div>\n",
       "<style scoped>\n",
       "    .dataframe tbody tr th:only-of-type {\n",
       "        vertical-align: middle;\n",
       "    }\n",
       "\n",
       "    .dataframe tbody tr th {\n",
       "        vertical-align: top;\n",
       "    }\n",
       "\n",
       "    .dataframe thead th {\n",
       "        text-align: right;\n",
       "    }\n",
       "</style>\n",
       "<table border=\"1\" class=\"dataframe\">\n",
       "  <thead>\n",
       "    <tr style=\"text-align: right;\">\n",
       "      <th></th>\n",
       "      <th>DQB1</th>\n",
       "      <th>freq_EUR</th>\n",
       "      <th>rank_EUR</th>\n",
       "      <th>freq_AFA</th>\n",
       "      <th>rank_AFA</th>\n",
       "      <th>freq_API</th>\n",
       "      <th>rank_API</th>\n",
       "      <th>freq_HIS</th>\n",
       "      <th>rank_HIS</th>\n",
       "      <th>allele</th>\n",
       "      <th>DRB1</th>\n",
       "    </tr>\n",
       "  </thead>\n",
       "  <tbody>\n",
       "    <tr>\n",
       "      <th>3</th>\n",
       "      <td>0302</td>\n",
       "      <td>0.09504</td>\n",
       "      <td>5.0</td>\n",
       "      <td>0.03683</td>\n",
       "      <td>6.0</td>\n",
       "      <td>0.07614</td>\n",
       "      <td>5.0</td>\n",
       "      <td>0.18894</td>\n",
       "      <td>2.0</td>\n",
       "      <td>DQB10302</td>\n",
       "      <td>NaN</td>\n",
       "    </tr>\n",
       "    <tr>\n",
       "      <th>8</th>\n",
       "      <td>0402</td>\n",
       "      <td>0.02529</td>\n",
       "      <td>9.0</td>\n",
       "      <td>0.06846</td>\n",
       "      <td>5.0</td>\n",
       "      <td>0.02333</td>\n",
       "      <td>11.0</td>\n",
       "      <td>0.09078</td>\n",
       "      <td>5.0</td>\n",
       "      <td>DQB10402</td>\n",
       "      <td>NaN</td>\n",
       "    </tr>\n",
       "  </tbody>\n",
       "</table>\n",
       "</div>"
      ],
      "text/plain": [
       "   DQB1  freq_EUR  rank_EUR  freq_AFA  rank_AFA  freq_API  rank_API  freq_HIS  \\\n",
       "3  0302   0.09504       5.0   0.03683       6.0   0.07614       5.0   0.18894   \n",
       "8  0402   0.02529       9.0   0.06846       5.0   0.02333      11.0   0.09078   \n",
       "\n",
       "   rank_HIS    allele DRB1  \n",
       "3       2.0  DQB10302  NaN  \n",
       "8       5.0  DQB10402  NaN  "
      ]
     },
     "execution_count": 4,
     "metadata": {},
     "output_type": "execute_result"
    }
   ],
   "source": [
    "### frequencies in USA\n",
    "drb1_freq = pd.read_csv('../data/refs/DRB1_be_the_match_US.txt', sep='\\t')\n",
    "drb1_freq['allele'] = drb1_freq['DRB1'].apply(lambda x: 'DRB1_{}'.format(x))\n",
    "\n",
    "dqb1_freq = pd.read_csv('../data/refs/DQB1_be_the_match_US.txt', sep='\\t')\n",
    "dqb1_freq['allele'] = dqb1_freq['DQB1'].apply(lambda x: 'DQB1{}'.format(x))\n",
    "\n",
    "dpb1_freq = pd.read_csv('../data/refs/DPB1_us_freq.Patel2017.tsv', sep='\\t', usecols=range(5))\n",
    "dpb1_freq = dpb1_freq.rename(columns={'Cauc': 'EUR', 'Hisp': 'HIS', 'Asian': 'API', 'HLA-DPBl': 'allele'})\n",
    "dpb1_freq.columns = ['freq_{}'.format(x) if x != 'allele' else x for x in dpb1_freq.columns]\n",
    "dpb1_freq = dpb1_freq.set_index('allele').applymap(lambda x: x/100).reset_index()\n",
    "\n",
    "# subset to alleles in supertype_df\n",
    "dqb1_freq = dqb1_freq[dqb1_freq['allele'].isin(supertype_df['alleles'].values)]\n",
    "drb1_freq = drb1_freq[drb1_freq['allele'].isin(supertype_df['alleles'].values)]\n",
    "dpb1_freq = dpb1_freq[dpb1_freq['allele'].isin(supertype_df['alleles'].values)]\n",
    "\n",
    "# invert colnames for melting\n",
    "dqb1_freq.columns = ['_'.join(x.split('_')[::-1]) for x in dqb1_freq.columns]\n",
    "drb1_freq.columns = ['_'.join(x.split('_')[::-1]) for x in drb1_freq.columns]\n",
    "\n",
    "freq_df = dqb1_freq.append(drb1_freq).append(dpb1_freq)\n",
    "freq_df.head(2)"
   ]
  },
  {
   "cell_type": "code",
   "execution_count": 5,
   "metadata": {},
   "outputs": [
    {
     "data": {
      "text/html": [
       "<div>\n",
       "<style scoped>\n",
       "    .dataframe tbody tr th:only-of-type {\n",
       "        vertical-align: middle;\n",
       "    }\n",
       "\n",
       "    .dataframe tbody tr th {\n",
       "        vertical-align: top;\n",
       "    }\n",
       "\n",
       "    .dataframe thead th {\n",
       "        text-align: right;\n",
       "    }\n",
       "</style>\n",
       "<table border=\"1\" class=\"dataframe\">\n",
       "  <thead>\n",
       "    <tr style=\"text-align: right;\">\n",
       "      <th></th>\n",
       "      <th>allele</th>\n",
       "      <th>freq</th>\n",
       "      <th>rank</th>\n",
       "      <th>pop</th>\n",
       "    </tr>\n",
       "  </thead>\n",
       "  <tbody>\n",
       "    <tr>\n",
       "      <th>0</th>\n",
       "      <td>DQB10302</td>\n",
       "      <td>0.09504</td>\n",
       "      <td>5.0</td>\n",
       "      <td>EUR</td>\n",
       "    </tr>\n",
       "    <tr>\n",
       "      <th>1</th>\n",
       "      <td>DQB10402</td>\n",
       "      <td>0.02529</td>\n",
       "      <td>9.0</td>\n",
       "      <td>EUR</td>\n",
       "    </tr>\n",
       "  </tbody>\n",
       "</table>\n",
       "</div>"
      ],
      "text/plain": [
       "     allele     freq  rank  pop\n",
       "0  DQB10302  0.09504   5.0  EUR\n",
       "1  DQB10402  0.02529   9.0  EUR"
      ]
     },
     "execution_count": 5,
     "metadata": {},
     "output_type": "execute_result"
    }
   ],
   "source": [
    "freq_df = pd.wide_to_long(freq_df, stubnames=['freq','rank'], sep='_', suffix='\\w+', i=['allele'], j='pop')\n",
    "freq_df = freq_df.reset_index()[['allele','freq','rank','pop']]\n",
    "\n",
    "freq_df.head(2)"
   ]
  },
  {
   "cell_type": "markdown",
   "metadata": {},
   "source": [
    "##### Supertype affinities"
   ]
  },
  {
   "cell_type": "code",
   "execution_count": 6,
   "metadata": {},
   "outputs": [
    {
     "name": "stdout",
     "output_type": "stream",
     "text": [
      "(3777, 13)\n"
     ]
    },
    {
     "data": {
      "text/html": [
       "<div>\n",
       "<style scoped>\n",
       "    .dataframe tbody tr th:only-of-type {\n",
       "        vertical-align: middle;\n",
       "    }\n",
       "\n",
       "    .dataframe tbody tr th {\n",
       "        vertical-align: top;\n",
       "    }\n",
       "\n",
       "    .dataframe thead th {\n",
       "        text-align: right;\n",
       "    }\n",
       "</style>\n",
       "<table border=\"1\" class=\"dataframe\">\n",
       "  <thead>\n",
       "    <tr style=\"text-align: right;\">\n",
       "      <th></th>\n",
       "      <th>Peptide</th>\n",
       "      <th>DP2</th>\n",
       "      <th>DQ7</th>\n",
       "      <th>DR4</th>\n",
       "      <th>DRB3</th>\n",
       "      <th>main_DP</th>\n",
       "      <th>main_DQ</th>\n",
       "      <th>main_DR</th>\n",
       "      <th>len</th>\n",
       "      <th>pos</th>\n",
       "      <th>end_pos</th>\n",
       "      <th>center_pos</th>\n",
       "      <th>distance_to_FNCY</th>\n",
       "    </tr>\n",
       "  </thead>\n",
       "  <tbody>\n",
       "    <tr>\n",
       "      <th>0</th>\n",
       "      <td>AAAYYVGYLQPRTF</td>\n",
       "      <td>19.26</td>\n",
       "      <td>29.02</td>\n",
       "      <td>44.83</td>\n",
       "      <td>37.06</td>\n",
       "      <td>21.495</td>\n",
       "      <td>36.83</td>\n",
       "      <td>38.79</td>\n",
       "      <td>14</td>\n",
       "      <td>261</td>\n",
       "      <td>275</td>\n",
       "      <td>268</td>\n",
       "      <td>215.5</td>\n",
       "    </tr>\n",
       "    <tr>\n",
       "      <th>1</th>\n",
       "      <td>AAAYYVGYLQPRTFL</td>\n",
       "      <td>24.97</td>\n",
       "      <td>33.16</td>\n",
       "      <td>52.83</td>\n",
       "      <td>41.33</td>\n",
       "      <td>29.910</td>\n",
       "      <td>43.28</td>\n",
       "      <td>47.45</td>\n",
       "      <td>15</td>\n",
       "      <td>261</td>\n",
       "      <td>276</td>\n",
       "      <td>268</td>\n",
       "      <td>215.5</td>\n",
       "    </tr>\n",
       "  </tbody>\n",
       "</table>\n",
       "</div>"
      ],
      "text/plain": [
       "           Peptide    DP2    DQ7    DR4   DRB3  main_DP  main_DQ  main_DR  \\\n",
       "0   AAAYYVGYLQPRTF  19.26  29.02  44.83  37.06   21.495    36.83    38.79   \n",
       "1  AAAYYVGYLQPRTFL  24.97  33.16  52.83  41.33   29.910    43.28    47.45   \n",
       "\n",
       "   len  pos  end_pos  center_pos  distance_to_FNCY  \n",
       "0   14  261      275         268             215.5  \n",
       "1   15  261      276         268             215.5  "
      ]
     },
     "execution_count": 6,
     "metadata": {},
     "output_type": "execute_result"
    }
   ],
   "source": [
    "aff_df = pd.read_csv('../data/generated_data/supertype_median_affinity.tsv', sep='\\t')\n",
    "\n",
    "aff_df['len'] = aff_df['Peptide'].apply(len)\n",
    "aff_df['pos'] = aff_df['Peptide'].apply(lambda x: sp.find(x))\n",
    "\n",
    "aff_df['end_pos'] = aff_df.apply(lambda x: x['pos']+x['len'], axis=1)\n",
    "aff_df['center_pos'] = aff_df.apply(lambda x: int(np.median([x['pos'],x['end_pos']])), axis=1)\n",
    "aff_df['distance_to_FNCY'] = aff_df['center_pos'].apply(lambda x: abs(x-sp.find('FNCY')+1.5))\n",
    "\n",
    "print(aff_df.shape)\n",
    "aff_df.head(2)"
   ]
  },
  {
   "cell_type": "code",
   "execution_count": 7,
   "metadata": {},
   "outputs": [
    {
     "name": "stdout",
     "output_type": "stream",
     "text": [
      "DP2\n",
      "DQ7\n",
      "DR4\n",
      "DRB3\n",
      "main_DP\n",
      "main_DQ\n",
      "main_DR\n",
      "(1273, 8)\n"
     ]
    },
    {
     "data": {
      "text/html": [
       "<div>\n",
       "<style scoped>\n",
       "    .dataframe tbody tr th:only-of-type {\n",
       "        vertical-align: middle;\n",
       "    }\n",
       "\n",
       "    .dataframe tbody tr th {\n",
       "        vertical-align: top;\n",
       "    }\n",
       "\n",
       "    .dataframe thead th {\n",
       "        text-align: right;\n",
       "    }\n",
       "</style>\n",
       "<table border=\"1\" class=\"dataframe\">\n",
       "  <thead>\n",
       "    <tr style=\"text-align: right;\">\n",
       "      <th></th>\n",
       "      <th>position</th>\n",
       "      <th>position_score_DP2</th>\n",
       "      <th>position_score_DQ7</th>\n",
       "      <th>position_score_DR4</th>\n",
       "      <th>position_score_DRB3</th>\n",
       "      <th>position_score_main_DP</th>\n",
       "      <th>position_score_main_DQ</th>\n",
       "      <th>position_score_main_DR</th>\n",
       "    </tr>\n",
       "  </thead>\n",
       "  <tbody>\n",
       "    <tr>\n",
       "      <th>0</th>\n",
       "      <td>0</td>\n",
       "      <td>59.1</td>\n",
       "      <td>95.0</td>\n",
       "      <td>38.51</td>\n",
       "      <td>72.44</td>\n",
       "      <td>75.13</td>\n",
       "      <td>88.0</td>\n",
       "      <td>85.1</td>\n",
       "    </tr>\n",
       "    <tr>\n",
       "      <th>1</th>\n",
       "      <td>1</td>\n",
       "      <td>59.1</td>\n",
       "      <td>95.0</td>\n",
       "      <td>38.51</td>\n",
       "      <td>72.44</td>\n",
       "      <td>75.13</td>\n",
       "      <td>88.0</td>\n",
       "      <td>85.1</td>\n",
       "    </tr>\n",
       "  </tbody>\n",
       "</table>\n",
       "</div>"
      ],
      "text/plain": [
       "   position  position_score_DP2  position_score_DQ7  position_score_DR4  \\\n",
       "0         0                59.1                95.0               38.51   \n",
       "1         1                59.1                95.0               38.51   \n",
       "\n",
       "   position_score_DRB3  position_score_main_DP  position_score_main_DQ  \\\n",
       "0                72.44                   75.13                    88.0   \n",
       "1                72.44                   75.13                    88.0   \n",
       "\n",
       "   position_score_main_DR  \n",
       "0                    85.1  \n",
       "1                    85.1  "
      ]
     },
     "execution_count": 7,
     "metadata": {},
     "output_type": "execute_result"
    }
   ],
   "source": [
    "# get position scores\n",
    "for i, supertype in enumerate(['DP2','DQ7','DR4','DRB3','main_DP','main_DQ','main_DR']):\n",
    "    print(supertype)\n",
    "    position_min_median_list = []\n",
    "    \n",
    "    aff_df['pos_range'] = aff_df.apply(lambda x: range(x['pos'],x['pos']+len(x['Peptide'])), axis=1)\n",
    "\n",
    "    for position in range(len(sp)):\n",
    "        # subset to any peptides covering position\n",
    "        pos_df = aff_df[aff_df['pos_range'].apply(lambda x: position in x)]\n",
    "        pos_df = pos_df.set_index(['Peptide','pos_range'])\n",
    "\n",
    "        # take median of all alleles, then best rank\n",
    "        pos_df = pos_df[[supertype]]\n",
    "\n",
    "        position_min_median_list.append(pos_df[supertype].min())\n",
    "\n",
    "\n",
    "    temp = pd.DataFrame({'position': range(len(sp)), \n",
    "                         'position_score_{}'.format(supertype) : position_min_median_list})\n",
    "    if i == 0:\n",
    "        position_super_aff_df = temp.copy()\n",
    "    else:\n",
    "        position_super_aff_df = pd.merge(position_super_aff_df, temp, on='position')\n",
    "\n",
    "print(position_super_aff_df.shape)\n",
    "position_super_aff_df.to_csv('../data/generated_data/position_score.supertypes.tsv', sep='\\t', index=False)\n",
    "position_super_aff_df.head(2)"
   ]
  },
  {
   "cell_type": "code",
   "execution_count": 8,
   "metadata": {},
   "outputs": [
    {
     "name": "stdout",
     "output_type": "stream",
     "text": [
      "(1273, 8)\n"
     ]
    },
    {
     "data": {
      "text/html": [
       "<div>\n",
       "<style scoped>\n",
       "    .dataframe tbody tr th:only-of-type {\n",
       "        vertical-align: middle;\n",
       "    }\n",
       "\n",
       "    .dataframe tbody tr th {\n",
       "        vertical-align: top;\n",
       "    }\n",
       "\n",
       "    .dataframe thead th {\n",
       "        text-align: right;\n",
       "    }\n",
       "</style>\n",
       "<table border=\"1\" class=\"dataframe\">\n",
       "  <thead>\n",
       "    <tr style=\"text-align: right;\">\n",
       "      <th></th>\n",
       "      <th>position</th>\n",
       "      <th>position_score_DP2</th>\n",
       "      <th>position_score_DQ7</th>\n",
       "      <th>position_score_DR4</th>\n",
       "      <th>position_score_DRB3</th>\n",
       "      <th>position_score_main_DP</th>\n",
       "      <th>position_score_main_DQ</th>\n",
       "      <th>position_score_main_DR</th>\n",
       "    </tr>\n",
       "  </thead>\n",
       "  <tbody>\n",
       "    <tr>\n",
       "      <th>0</th>\n",
       "      <td>0</td>\n",
       "      <td>59.1</td>\n",
       "      <td>95.0</td>\n",
       "      <td>38.51</td>\n",
       "      <td>72.44</td>\n",
       "      <td>75.13</td>\n",
       "      <td>88.0</td>\n",
       "      <td>85.1</td>\n",
       "    </tr>\n",
       "    <tr>\n",
       "      <th>1</th>\n",
       "      <td>1</td>\n",
       "      <td>59.1</td>\n",
       "      <td>95.0</td>\n",
       "      <td>38.51</td>\n",
       "      <td>72.44</td>\n",
       "      <td>75.13</td>\n",
       "      <td>88.0</td>\n",
       "      <td>85.1</td>\n",
       "    </tr>\n",
       "  </tbody>\n",
       "</table>\n",
       "</div>"
      ],
      "text/plain": [
       "   position  position_score_DP2  position_score_DQ7  position_score_DR4  \\\n",
       "0         0                59.1                95.0               38.51   \n",
       "1         1                59.1                95.0               38.51   \n",
       "\n",
       "   position_score_DRB3  position_score_main_DP  position_score_main_DQ  \\\n",
       "0                72.44                   75.13                    88.0   \n",
       "1                72.44                   75.13                    88.0   \n",
       "\n",
       "   position_score_main_DR  \n",
       "0                    85.1  \n",
       "1                    85.1  "
      ]
     },
     "execution_count": 8,
     "metadata": {},
     "output_type": "execute_result"
    }
   ],
   "source": [
    "position_super_aff_df = pd.read_csv('../data/generated_data/position_score.supertypes.tsv', sep='\\t')\n",
    "print(position_super_aff_df.shape)\n",
    "position_super_aff_df.head(2)"
   ]
  },
  {
   "cell_type": "code",
   "execution_count": 9,
   "metadata": {},
   "outputs": [
    {
     "data": {
      "text/html": [
       "<div>\n",
       "<style scoped>\n",
       "    .dataframe tbody tr th:only-of-type {\n",
       "        vertical-align: middle;\n",
       "    }\n",
       "\n",
       "    .dataframe tbody tr th {\n",
       "        vertical-align: top;\n",
       "    }\n",
       "\n",
       "    .dataframe thead th {\n",
       "        text-align: right;\n",
       "    }\n",
       "</style>\n",
       "<table border=\"1\" class=\"dataframe\">\n",
       "  <thead>\n",
       "    <tr style=\"text-align: right;\">\n",
       "      <th></th>\n",
       "      <th>position</th>\n",
       "      <th>min_median_affinity</th>\n",
       "    </tr>\n",
       "  </thead>\n",
       "  <tbody>\n",
       "    <tr>\n",
       "      <th>0</th>\n",
       "      <td>0</td>\n",
       "      <td>92.42</td>\n",
       "    </tr>\n",
       "    <tr>\n",
       "      <th>1</th>\n",
       "      <td>1</td>\n",
       "      <td>92.42</td>\n",
       "    </tr>\n",
       "  </tbody>\n",
       "</table>\n",
       "</div>"
      ],
      "text/plain": [
       "   position  min_median_affinity\n",
       "0         0                92.42\n",
       "1         1                92.42"
      ]
     },
     "execution_count": 9,
     "metadata": {},
     "output_type": "execute_result"
    }
   ],
   "source": [
    "# Overall position distribution for comparison\n",
    "overall_pos_df = pd.read_csv('../data/generated_data/position_score.common_alleles.tsv', sep='\\t')\n",
    "overall_pos_df.head(2)"
   ]
  },
  {
   "cell_type": "markdown",
   "metadata": {},
   "source": [
    "### Panel A - population frequencies/supertypes"
   ]
  },
  {
   "cell_type": "code",
   "execution_count": 10,
   "metadata": {},
   "outputs": [],
   "source": [
    "freq_df = pd.merge(freq_df, supertype_df[['alleles','supertype']].drop_duplicates().set_index('alleles'), \n",
    "                   how='left', left_on='allele', right_on='alleles')\n"
   ]
  },
  {
   "cell_type": "code",
   "execution_count": 11,
   "metadata": {},
   "outputs": [
    {
     "data": {
      "text/html": [
       "<div>\n",
       "<style scoped>\n",
       "    .dataframe tbody tr th:only-of-type {\n",
       "        vertical-align: middle;\n",
       "    }\n",
       "\n",
       "    .dataframe tbody tr th {\n",
       "        vertical-align: top;\n",
       "    }\n",
       "\n",
       "    .dataframe thead th {\n",
       "        text-align: right;\n",
       "    }\n",
       "</style>\n",
       "<table border=\"1\" class=\"dataframe\">\n",
       "  <thead>\n",
       "    <tr style=\"text-align: right;\">\n",
       "      <th></th>\n",
       "      <th>supertype</th>\n",
       "      <th>US population</th>\n",
       "      <th>Summed allele frequency</th>\n",
       "    </tr>\n",
       "  </thead>\n",
       "  <tbody>\n",
       "    <tr>\n",
       "      <th>0</th>\n",
       "      <td>DP2</td>\n",
       "      <td>AFA</td>\n",
       "      <td>0.18820</td>\n",
       "    </tr>\n",
       "    <tr>\n",
       "      <th>1</th>\n",
       "      <td>DQ7</td>\n",
       "      <td>AFA</td>\n",
       "      <td>0.19801</td>\n",
       "    </tr>\n",
       "  </tbody>\n",
       "</table>\n",
       "</div>"
      ],
      "text/plain": [
       "  supertype US population  Summed allele frequency\n",
       "0       DP2           AFA                  0.18820\n",
       "1       DQ7           AFA                  0.19801"
      ]
     },
     "execution_count": 11,
     "metadata": {},
     "output_type": "execute_result"
    }
   ],
   "source": [
    "freq_sum_df = freq_df.pivot_table(index='supertype', columns='pop', values='freq', aggfunc='sum')\n",
    "freq_sum_df = pd.melt(freq_sum_df.reset_index(), id_vars='supertype', var_name='US population', \n",
    "                      value_name='Summed allele frequency')\n",
    "freq_sum_df.head(2)"
   ]
  },
  {
   "cell_type": "markdown",
   "metadata": {},
   "source": [
    "### Panel B - supertype presentation of FNCY/region"
   ]
  },
  {
   "cell_type": "code",
   "execution_count": 12,
   "metadata": {},
   "outputs": [
    {
     "data": {
      "text/plain": [
       "([], <a list of 0 Text xticklabel objects>)"
      ]
     },
     "execution_count": 12,
     "metadata": {},
     "output_type": "execute_result"
    },
    {
     "data": {
      "image/png": "[encoded data removed]",
      "text/plain": [
       "<Figure size 720x144 with 1 Axes>"
      ]
     },
     "metadata": {
      "needs_background": "light"
     },
     "output_type": "display_data"
    }
   ],
   "source": [
    "plt.figure(figsize=(10,2))\n",
    "d = pd.melt(position_super_aff_df, id_vars=['position'])\n",
    "d = d[d['position'].isin(range(sp.find('FNCY')-50,sp.find('FNCY')+4+50))]\n",
    "sns.barplot(x='position', y='value', data=d, color='lightgrey', errwidth=0.5)\n",
    "plt.xticks([], rotation=45, ha='right')"
   ]
  },
  {
   "cell_type": "markdown",
   "metadata": {},
   "source": [
    "### Panel D - fraction of proximal residues able to be bound by various supertypes"
   ]
  },
  {
   "cell_type": "code",
   "execution_count": 13,
   "metadata": {},
   "outputs": [],
   "source": [
    "window = 50"
   ]
  },
  {
   "cell_type": "code",
   "execution_count": 14,
   "metadata": {},
   "outputs": [
    {
     "data": {
      "text/plain": [
       "104"
      ]
     },
     "execution_count": 14,
     "metadata": {},
     "output_type": "execute_result"
    }
   ],
   "source": [
    "fncy_window_positions = range(485-window, 489+window)\n",
    "len(fncy_window_positions)"
   ]
  },
  {
   "cell_type": "code",
   "execution_count": 15,
   "metadata": {},
   "outputs": [
    {
     "data": {
      "text/html": [
       "<div>\n",
       "<style scoped>\n",
       "    .dataframe tbody tr th:only-of-type {\n",
       "        vertical-align: middle;\n",
       "    }\n",
       "\n",
       "    .dataframe tbody tr th {\n",
       "        vertical-align: top;\n",
       "    }\n",
       "\n",
       "    .dataframe thead th {\n",
       "        text-align: right;\n",
       "    }\n",
       "</style>\n",
       "<table border=\"1\" class=\"dataframe\">\n",
       "  <thead>\n",
       "    <tr style=\"text-align: right;\">\n",
       "      <th></th>\n",
       "      <th>Number of binding positions</th>\n",
       "      <th>Fraction of binding positions</th>\n",
       "      <th>supertype</th>\n",
       "    </tr>\n",
       "  </thead>\n",
       "  <tbody>\n",
       "    <tr>\n",
       "      <th>position_score_DP2</th>\n",
       "      <td>75</td>\n",
       "      <td>0.721154</td>\n",
       "      <td>DP2</td>\n",
       "    </tr>\n",
       "    <tr>\n",
       "      <th>position_score_DQ7</th>\n",
       "      <td>25</td>\n",
       "      <td>0.240385</td>\n",
       "      <td>DQ7</td>\n",
       "    </tr>\n",
       "  </tbody>\n",
       "</table>\n",
       "</div>"
      ],
      "text/plain": [
       "                    Number of binding positions  \\\n",
       "position_score_DP2                           75   \n",
       "position_score_DQ7                           25   \n",
       "\n",
       "                    Fraction of binding positions supertype  \n",
       "position_score_DP2                       0.721154       DP2  \n",
       "position_score_DQ7                       0.240385       DQ7  "
      ]
     },
     "execution_count": 15,
     "metadata": {},
     "output_type": "execute_result"
    }
   ],
   "source": [
    "frac_df = position_super_aff_df[position_super_aff_df['position'].isin(fncy_window_positions)]\n",
    "frac_df = frac_df.set_index('position').apply(lambda x: x<10).sum(axis=0)\n",
    "frac_df = pd.DataFrame(frac_df, columns=['Number of binding positions'])\n",
    "frac_df['Fraction of binding positions'] = frac_df['Number of binding positions'] / len(fncy_window_positions)\n",
    "frac_df['supertype'] = [x.split('position_score_')[1] for x in frac_df.index.values]\n",
    "frac_df.head(2)"
   ]
  },
  {
   "cell_type": "code",
   "execution_count": 16,
   "metadata": {},
   "outputs": [
    {
     "data": {
      "text/html": [
       "<div>\n",
       "<style scoped>\n",
       "    .dataframe tbody tr th:only-of-type {\n",
       "        vertical-align: middle;\n",
       "    }\n",
       "\n",
       "    .dataframe tbody tr th {\n",
       "        vertical-align: top;\n",
       "    }\n",
       "\n",
       "    .dataframe thead th {\n",
       "        text-align: right;\n",
       "    }\n",
       "</style>\n",
       "<table border=\"1\" class=\"dataframe\">\n",
       "  <thead>\n",
       "    <tr style=\"text-align: right;\">\n",
       "      <th></th>\n",
       "      <th>Number of binding positions</th>\n",
       "      <th>Fraction of binding positions</th>\n",
       "      <th>supertype</th>\n",
       "      <th>Number of nonbinding positions</th>\n",
       "    </tr>\n",
       "  </thead>\n",
       "  <tbody>\n",
       "    <tr>\n",
       "      <th>position_score_DP2</th>\n",
       "      <td>75</td>\n",
       "      <td>0.721154</td>\n",
       "      <td>DP2</td>\n",
       "      <td>29</td>\n",
       "    </tr>\n",
       "    <tr>\n",
       "      <th>position_score_DQ7</th>\n",
       "      <td>25</td>\n",
       "      <td>0.240385</td>\n",
       "      <td>DQ7</td>\n",
       "      <td>79</td>\n",
       "    </tr>\n",
       "  </tbody>\n",
       "</table>\n",
       "</div>"
      ],
      "text/plain": [
       "                    Number of binding positions  \\\n",
       "position_score_DP2                           75   \n",
       "position_score_DQ7                           25   \n",
       "\n",
       "                    Fraction of binding positions supertype  \\\n",
       "position_score_DP2                       0.721154       DP2   \n",
       "position_score_DQ7                       0.240385       DQ7   \n",
       "\n",
       "                    Number of nonbinding positions  \n",
       "position_score_DP2                              29  \n",
       "position_score_DQ7                              79  "
      ]
     },
     "execution_count": 16,
     "metadata": {},
     "output_type": "execute_result"
    }
   ],
   "source": [
    "frac_df['Number of nonbinding positions'] = len(fncy_window_positions) - frac_df['Number of binding positions'] \n",
    "frac_df.head(2)"
   ]
  },
  {
   "cell_type": "code",
   "execution_count": 17,
   "metadata": {},
   "outputs": [
    {
     "data": {
      "text/plain": [
       "(175.0855521370685, 3.7496185422988677e-35)"
      ]
     },
     "execution_count": 17,
     "metadata": {},
     "output_type": "execute_result"
    }
   ],
   "source": [
    "stat, p, dof, expected = chi2_contingency(frac_df[['Number of binding positions', 'Number of nonbinding positions']])\n",
    "stat, p"
   ]
  },
  {
   "cell_type": "markdown",
   "metadata": {},
   "source": [
    "### Plot all together"
   ]
  },
  {
   "cell_type": "code",
   "execution_count": 18,
   "metadata": {},
   "outputs": [
    {
     "name": "stderr",
     "output_type": "stream",
     "text": [
      "/cellar/users/andreabc/miniconda3/lib/python3.6/site-packages/matplotlib/figure.py:2117: UserWarning: This figure was using constrained_layout==True, but that is incompatible with subplots_adjust and or tight_layout: setting constrained_layout==False. \n",
      "  warnings.warn(\"This figure was using constrained_layout==True, \"\n"
     ]
    },
    {
     "name": "stdout",
     "output_type": "stream",
     "text": [
      "Saving to ../data/figures/Fig3.pdf\n"
     ]
    },
    {
     "data": {
      "image/png": "[encoded data removed]",
      "text/plain": [
       "<Figure size 864x360 with 4 Axes>"
      ]
     },
     "metadata": {
      "needs_background": "light"
     },
     "output_type": "display_data"
    }
   ],
   "source": [
    "fig = plt.figure(constrained_layout=True, figsize=(12,5))\n",
    "gs = gridspec.GridSpec(9,3, figure=fig)\n",
    "\n",
    "\n",
    "# supertype colors\n",
    "cmap = plt.cm.tab20(np.linspace(0.1,0.9,len(position_super_aff_df.columns)-1))\n",
    "supertype_color_dict = dict(zip(freq_df['supertype'].unique(), cmap))\n",
    "\n",
    "#########################\n",
    "# A. supertype US freqs #\n",
    "#########################\n",
    "\n",
    "ax0 = fig.add_subplot(gs[0:4,2])\n",
    "\n",
    "# sns.barplot(x='supertype', y='freq', hue='pop', data=freq_df, palette='YlGnBu_r', ax=ax0, errwidth=0.5)\n",
    "sns.barplot(x='supertype', y='Summed allele frequency', hue='US population', data=freq_sum_df, \n",
    "            order=freq_df['supertype'].unique(), palette='YlGnBu_r', ax=ax0, errwidth=0.5)\n",
    "ax0.set_xlabel('')\n",
    "\n",
    "# color xtick labels\n",
    "for tick in ax0.get_xticklabels():\n",
    "    color = supertype_color_dict[tick.get_text()]\n",
    "    bbox = dict(boxstyle=\"round\", color=color, alpha=0.5) #ec=\"limegreen\", fc=\"limegreen\"\n",
    "    plt.setp(tick, bbox=bbox)\n",
    "    \n",
    "ax0.set_xticklabels([x.get_text().replace('_', '\\n') for x in ax0.get_xticklabels()])\n",
    "# plt.legend(bbox_to_anchor=(.5,-.3), title='US population')\n",
    "# ax0.set_ylim(0,.5)\n",
    "\n",
    "####################################  \n",
    "# B. supertype affinity aggregated #\n",
    "####################################  \n",
    "  \n",
    "ax1 = fig.add_subplot(gs[0:3,0:2])\n",
    "\n",
    "# d = pd.melt(position_super_aff_df, id_vars=['position'])\n",
    "# d = d[d['position'].isin(range(sp.find('FNCY')-window,sp.find('FNCY')+4+window))]\n",
    "sns.barplot(x='position', y='value', data=d, color='lightgrey', errwidth=0.5, ax=ax1) \n",
    "ax1.set_xticklabels([]), ax1.set_xlabel(''), ax1.set_ylabel('Position affinity score')\n",
    "\n",
    "#########################  \n",
    "# C. supertype affinity #\n",
    "#########################  \n",
    "\n",
    "\n",
    "ax2 = fig.add_subplot(gs[3:9,0:2])\n",
    "\n",
    "for i, stype in enumerate(freq_df['supertype'].unique()):\n",
    "    col = 'position_score_{}'.format(stype)\n",
    "    ax2.scatter(position_super_aff_df['position'].values, position_super_aff_df[col].values, \n",
    "             label=stype, alpha=0.5, color=supertype_color_dict[stype])\n",
    "\n",
    "# overall dist from fig3a\n",
    "# ax2.plot(overall_pos_df['position'].values, overall_pos_df['min_median_affinity'].values, \n",
    "#          color='purple', alpha=0.7)\n",
    "\n",
    "# FNCY\n",
    "ax2.axvspan(485,489, alpha=0.1, label='FNCY', color='grey')   \n",
    "\n",
    "# format\n",
    "ax2.set_xlabel('SARS-CoV-2 spike protein positions')\n",
    "ax2.set_ylabel('Position affinity score')\n",
    "ax2.axhline(10, ls='--', lw=1.5)\n",
    "ax2.set_xlim(485-window, 489+window), \n",
    "ax2.set_ylim(-5,90)\n",
    "plt.legend(loc='best')\n",
    "\n",
    "#################################  \n",
    "# D. fraction binding to window #\n",
    "#################################\n",
    "ax4 = fig.add_subplot(gs[5:9,2])\n",
    "\n",
    "barp = sns.barplot(x='supertype', y='Fraction of binding positions', data=frac_df, \n",
    "            order=freq_df['supertype'].unique(), ax=ax4)\n",
    "# plt.xticks(range(len(frac_df)), [x.split('position_score_')[1].replace('_','\\n') for x in frac_df.index.values])\n",
    "\n",
    "# bar colors\n",
    "xticks = [x.get_text() for x in barp.axes.xaxis.get_ticklabels()]\n",
    "for i, bar in enumerate(barp.patches):\n",
    "    bar.set_color(supertype_color_dict[xticks[i]])\n",
    "    bar.set_alpha(0.7)\n",
    "    \n",
    "# color xtick labels\n",
    "for tick in ax4.get_xticklabels():\n",
    "    color = supertype_color_dict[tick.get_text()]\n",
    "    bbox = dict(boxstyle=\"round\", color=color, alpha=0.5) \n",
    "    plt.setp(tick, bbox=bbox)\n",
    "ax4.set_xticklabels([x.get_text().replace('_', '\\n') for x in ax4.get_xticklabels()])\n",
    "\n",
    "ax4.set_ylim(0,1)\n",
    "ax4.set_xlabel('')\n",
    "\n",
    "## Save\n",
    "plt.tight_layout()\n",
    "savepath = '../data/figures/Fig3.pdf'\n",
    "print('Saving to {}'.format(savepath))\n",
    "\n",
    "plt.savefig(savepath)#, bbox_inches='tight')\n",
    "plt.show()"
   ]
  },
  {
   "cell_type": "code",
   "execution_count": null,
   "metadata": {},
   "outputs": [],
   "source": []
  }
 ],
 "metadata": {
  "kernelspec": {
   "display_name": "Python 3",
   "language": "python",
   "name": "python3"
  },
  "language_info": {
   "codemirror_mode": {
    "name": "ipython",
    "version": 3
   },
   "file_extension": ".py",
   "mimetype": "text/x-python",
   "name": "python",
   "nbconvert_exporter": "python",
   "pygments_lexer": "ipython3",
   "version": "3.6.8"
  }
 },
 "nbformat": 4,
 "nbformat_minor": 4
}
