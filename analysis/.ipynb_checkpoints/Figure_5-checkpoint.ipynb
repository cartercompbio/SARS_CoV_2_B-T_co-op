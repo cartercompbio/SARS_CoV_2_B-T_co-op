{
 "cells": [
  {
   "cell_type": "markdown",
   "metadata": {},
   "source": [
    "### Figure 5\n",
    "- Organisms and proteins containing a peptide with high similarity to 15mers +/-30aa from FNCY, with a median binding affinity <20 across common alleles.  \n",
    "- And Supplementary Figure S2"
   ]
  },
  {
   "cell_type": "code",
   "execution_count": 1,
   "metadata": {},
   "outputs": [
    {
     "name": "stderr",
     "output_type": "stream",
     "text": [
      "/cellar/users/andreabc/miniconda3/lib/python3.6/site-packages/statsmodels/tools/_testing.py:19: FutureWarning: pandas.util.testing is deprecated. Use the functions in the public API at pandas.testing instead.\n",
      "  import pandas.util.testing as tm\n"
     ]
    }
   ],
   "source": [
    "import pandas as pd\n",
    "import numpy as np\n",
    "from collections import defaultdict\n",
    "from more_itertools import consecutive_groups \n",
    "from Bio.SeqIO import parse\n",
    "\n",
    "from scipy.stats import pearsonr\n",
    "\n",
    "import matplotlib.pyplot as plt\n",
    "import matplotlib.gridspec as gridspec\n",
    "import seaborn as sns\n",
    "sns.set_style('white')\n",
    "sns.set_style('ticks')\n",
    "%matplotlib inline\n",
    "\n",
    "import matplotlib as mpl\n",
    "mpl.rcParams['pdf.fonttype'] = 42"
   ]
  },
  {
   "cell_type": "markdown",
   "metadata": {},
   "source": [
    "### Load data"
   ]
  },
  {
   "cell_type": "code",
   "execution_count": 2,
   "metadata": {},
   "outputs": [
    {
     "name": "stdout",
     "output_type": "stream",
     "text": [
      "1273\n"
     ]
    },
    {
     "data": {
      "text/plain": [
       "'MFVFLVLLPL'"
      ]
     },
     "execution_count": 2,
     "metadata": {},
     "output_type": "execute_result"
    }
   ],
   "source": [
    "with open('../data/refs/P0DTC2.fasta', 'r') as handle:\n",
    "    for line in parse(handle, 'fasta'):\n",
    "        sp = str(line.seq)\n",
    "print(len(sp))\n",
    "sp[:10]"
   ]
  },
  {
   "cell_type": "code",
   "execution_count": 3,
   "metadata": {},
   "outputs": [
    {
     "name": "stdout",
     "output_type": "stream",
     "text": [
      "279 1911\n"
     ]
    }
   ],
   "source": [
    "supertype_df = pd.read_csv('../data/generated_data/supertype_expanded_alleles.tsv', sep='\\t', )\n",
    "common_alleles = np.loadtxt('../data/generated_data/common_alleles.txt', dtype=str)\n",
    "print(len(supertype_df['expanded_alleles'].unique()), len(common_alleles))"
   ]
  },
  {
   "cell_type": "code",
   "execution_count": 4,
   "metadata": {},
   "outputs": [
    {
     "name": "stdout",
     "output_type": "stream",
     "text": [
      "(600, 5620) (1146600, 3) (167400, 3)\n"
     ]
    },
    {
     "data": {
      "text/html": [
       "<div>\n",
       "<style scoped>\n",
       "    .dataframe tbody tr th:only-of-type {\n",
       "        vertical-align: middle;\n",
       "    }\n",
       "\n",
       "    .dataframe tbody tr th {\n",
       "        vertical-align: top;\n",
       "    }\n",
       "\n",
       "    .dataframe thead th {\n",
       "        text-align: right;\n",
       "    }\n",
       "</style>\n",
       "<table border=\"1\" class=\"dataframe\">\n",
       "  <thead>\n",
       "    <tr style=\"text-align: right;\">\n",
       "      <th></th>\n",
       "      <th>Peptide</th>\n",
       "      <th>Allele</th>\n",
       "      <th>Affinity</th>\n",
       "    </tr>\n",
       "  </thead>\n",
       "  <tbody>\n",
       "    <tr>\n",
       "      <th>0</th>\n",
       "      <td>RKSNLKPFERDIST</td>\n",
       "      <td>HLA-DPA10401-DPB10101</td>\n",
       "      <td>44.28</td>\n",
       "    </tr>\n",
       "    <tr>\n",
       "      <th>1</th>\n",
       "      <td>VEVFNCYFP</td>\n",
       "      <td>HLA-DPA10401-DPB10101</td>\n",
       "      <td>95.00</td>\n",
       "    </tr>\n",
       "  </tbody>\n",
       "</table>\n",
       "</div>"
      ],
      "text/plain": [
       "          Peptide                 Allele  Affinity\n",
       "0  RKSNLKPFERDIST  HLA-DPA10401-DPB10101     44.28\n",
       "1       VEVFNCYFP  HLA-DPA10401-DPB10101     95.00"
      ]
     },
     "execution_count": 4,
     "metadata": {},
     "output_type": "execute_result"
    }
   ],
   "source": [
    "# affinities\n",
    "blast_aff_df = pd.read_csv('../data/generated_data/blast_peptides_results.unique.affinity.tsv', \n",
    "                           sep='\\t', index_col=0)\n",
    "common_melted_df = pd.melt(blast_aff_df[common_alleles].reset_index(), id_vars='Peptide', var_name='Allele', value_name='Affinity')\n",
    "stype_melted_df = pd.melt(blast_aff_df[supertype_df['expanded_alleles'].unique()].reset_index(), id_vars='Peptide', var_name='Allele', value_name='Affinity')\n",
    "\n",
    "print(blast_aff_df.shape, common_melted_df.shape, stype_melted_df.shape)\n",
    "stype_melted_df.head(2)"
   ]
  },
  {
   "cell_type": "code",
   "execution_count": 5,
   "metadata": {
    "scrolled": true
   },
   "outputs": [
    {
     "name": "stdout",
     "output_type": "stream",
     "text": [
      "(209, 3) (211, 3)\n"
     ]
    },
    {
     "data": {
      "text/html": [
       "<div>\n",
       "<style scoped>\n",
       "    .dataframe tbody tr th:only-of-type {\n",
       "        vertical-align: middle;\n",
       "    }\n",
       "\n",
       "    .dataframe tbody tr th {\n",
       "        vertical-align: top;\n",
       "    }\n",
       "\n",
       "    .dataframe thead th {\n",
       "        text-align: right;\n",
       "    }\n",
       "</style>\n",
       "<table border=\"1\" class=\"dataframe\">\n",
       "  <thead>\n",
       "    <tr style=\"text-align: right;\">\n",
       "      <th></th>\n",
       "      <th>Peptide</th>\n",
       "      <th>Number of binding alleles</th>\n",
       "      <th>Fraction of binding alleles</th>\n",
       "    </tr>\n",
       "  </thead>\n",
       "  <tbody>\n",
       "    <tr>\n",
       "      <th>8</th>\n",
       "      <td>DVSTEIYQFDTAAGTP</td>\n",
       "      <td>225</td>\n",
       "      <td>0.806452</td>\n",
       "    </tr>\n",
       "    <tr>\n",
       "      <th>130</th>\n",
       "      <td>RDVSTEIYQFDTAAGTP</td>\n",
       "      <td>200</td>\n",
       "      <td>0.716846</td>\n",
       "    </tr>\n",
       "  </tbody>\n",
       "</table>\n",
       "</div>"
      ],
      "text/plain": [
       "               Peptide  Number of binding alleles  Fraction of binding alleles\n",
       "8     DVSTEIYQFDTAAGTP                        225                     0.806452\n",
       "130  RDVSTEIYQFDTAAGTP                        200                     0.716846"
      ]
     },
     "execution_count": 5,
     "metadata": {},
     "output_type": "execute_result"
    }
   ],
   "source": [
    "common_median_aff_df = pd.DataFrame(blast_aff_df[common_alleles].median(axis=1), \n",
    "                             columns=['Median affinity across {} alleles'.format(len(common_alleles))])\n",
    "stype_median_aff_df = pd.DataFrame(blast_aff_df[supertype_df['expanded_alleles'].unique()].median(axis=1), \n",
    "                             columns=['Median affinity across {} alleles'.format(len(supertype_df['expanded_alleles']))])\n",
    "\n",
    "\n",
    "common_frac_df = common_melted_df[common_melted_df['Affinity']<10].pivot_table(index='Peptide', values='Allele', aggfunc='count')\n",
    "stype_frac_df = stype_melted_df[stype_melted_df['Affinity']<10].pivot_table(index='Peptide', values='Allele', aggfunc='count')\n",
    "\n",
    "common_frac_df = common_frac_df.rename(columns={'Allele': 'Number of binding alleles'}).reset_index()\n",
    "common_frac_df['Fraction of binding alleles'] = common_frac_df['Number of binding alleles'] / len(common_alleles)\n",
    "common_frac_df = common_frac_df.sort_values(by=['Fraction of binding alleles'], ascending=False)\n",
    "\n",
    "stype_frac_df = stype_frac_df.rename(columns={'Allele': 'Number of binding alleles'}).reset_index()\n",
    "stype_frac_df['Fraction of binding alleles'] = stype_frac_df['Number of binding alleles'] / len(supertype_df['expanded_alleles'].unique())\n",
    "stype_frac_df = stype_frac_df.sort_values(by=['Fraction of binding alleles'], ascending=False)\n",
    "\n",
    "print(common_frac_df.shape, stype_frac_df.shape)\n",
    "stype_frac_df.head(2)"
   ]
  },
  {
   "cell_type": "code",
   "execution_count": 6,
   "metadata": {},
   "outputs": [
    {
     "name": "stdout",
     "output_type": "stream",
     "text": [
      "(724, 5)\n"
     ]
    },
    {
     "data": {
      "text/html": [
       "<div>\n",
       "<style scoped>\n",
       "    .dataframe tbody tr th:only-of-type {\n",
       "        vertical-align: middle;\n",
       "    }\n",
       "\n",
       "    .dataframe tbody tr th {\n",
       "        vertical-align: top;\n",
       "    }\n",
       "\n",
       "    .dataframe thead th {\n",
       "        text-align: right;\n",
       "    }\n",
       "</style>\n",
       "<table border=\"1\" class=\"dataframe\">\n",
       "  <thead>\n",
       "    <tr style=\"text-align: right;\">\n",
       "      <th></th>\n",
       "      <th>subject</th>\n",
       "      <th>query</th>\n",
       "      <th>description</th>\n",
       "      <th>score</th>\n",
       "      <th>peptide</th>\n",
       "    </tr>\n",
       "  </thead>\n",
       "  <tbody>\n",
       "    <tr>\n",
       "      <th>0</th>\n",
       "      <td>RKSGLVLPKPFERDI</td>\n",
       "      <td>RKSNLKPFERDI</td>\n",
       "      <td>HIRAN domain-containing protein [Urinicoccus s...</td>\n",
       "      <td>32.5</td>\n",
       "      <td>0</td>\n",
       "    </tr>\n",
       "    <tr>\n",
       "      <th>1</th>\n",
       "      <td>FRKSNLKPGEQAIS</td>\n",
       "      <td>FRKSNLKPFERDIS</td>\n",
       "      <td>FecR family protein [Pedobacter sp. RP-3-15]</td>\n",
       "      <td>32.0</td>\n",
       "      <td>0</td>\n",
       "    </tr>\n",
       "  </tbody>\n",
       "</table>\n",
       "</div>"
      ],
      "text/plain": [
       "           subject           query  \\\n",
       "0  RKSGLVLPKPFERDI    RKSNLKPFERDI   \n",
       "1   FRKSNLKPGEQAIS  FRKSNLKPFERDIS   \n",
       "\n",
       "                                         description  score  peptide  \n",
       "0  HIRAN domain-containing protein [Urinicoccus s...   32.5        0  \n",
       "1       FecR family protein [Pedobacter sp. RP-3-15]   32.0        0  "
      ]
     },
     "execution_count": 6,
     "metadata": {},
     "output_type": "execute_result"
    }
   ],
   "source": [
    "# query is original peptide\n",
    "blast_peptide_df = pd.read_csv('../data/generated_data/blast_peptides.all.FNCY_plusminus30.tsv', \n",
    "                               sep='\\t', index_col=0)\n",
    "blast_peptide_df = blast_peptide_df.drop_duplicates(subset=['subject','query','description'])\n",
    "print(blast_peptide_df.shape)\n",
    "blast_peptide_df.head(2)"
   ]
  },
  {
   "cell_type": "code",
   "execution_count": 7,
   "metadata": {
    "scrolled": true
   },
   "outputs": [
    {
     "name": "stdout",
     "output_type": "stream",
     "text": [
      "Saving to ../data/publication/blast_peptides.common_alleles.affinity.tsv\n",
      "(724, 9)\n",
      "Saving to ../data/publication/blast_peptides.supertype_alleles.affinity.tsv\n",
      "(724, 9)\n"
     ]
    }
   ],
   "source": [
    "common_df = pd.merge(blast_peptide_df, common_frac_df, left_on='subject', right_on='Peptide', how='left')\n",
    "stype_df = pd.merge(blast_peptide_df, stype_frac_df, left_on='subject', right_on='Peptide', how='left')\n",
    "\n",
    "\n",
    "common_df = pd.merge(common_df, common_median_aff_df, left_on='subject', right_on='Peptide', how='left')\n",
    "stype_df = pd.merge(stype_df, stype_median_aff_df, left_on='subject', right_on='Peptide', how='left')\n",
    "\n",
    "\n",
    "common_df['subject_len'] = common_df['subject'].apply(len)\n",
    "common_df['query_len'] = common_df['query'].apply(len)\n",
    "\n",
    "stype_df['subject_len'] = stype_df['subject'].apply(len)\n",
    "stype_df['query_len'] = stype_df['query'].apply(len)\n",
    "\n",
    "# if subject peptide >=9aa fillna\n",
    "m = (common_df['Number of binding alleles'].isna())&(common_df['subject_len']>=9)\n",
    "common_df.loc[m,'Fraction of binding alleles'] = 0\n",
    "common_df.loc[m,'Number of binding alleles'] = 0\n",
    "\n",
    "m = (stype_df['Number of binding alleles'].isna())&(stype_df['subject_len']>=9)\n",
    "stype_df.loc[m,'Fraction of binding alleles'] = 0\n",
    "stype_df.loc[m,'Number of binding alleles'] = 0\n",
    "\n",
    "# save as supplementary table\n",
    "del common_df['peptide']\n",
    "del common_df['Peptide']\n",
    "\n",
    "del stype_df['peptide']\n",
    "del stype_df['Peptide']\n",
    "\n",
    "\n",
    "savepath = '../data/publication/blast_peptides.common_alleles.affinity.tsv'\n",
    "print('Saving to {}'.format(savepath))\n",
    "common_df.to_csv(savepath, sep='\\t', index=False)\n",
    "print(common_df.shape)\n",
    "\n",
    "savepath = '../data/publication/blast_peptides.supertype_alleles.affinity.tsv'\n",
    "print('Saving to {}'.format(savepath))\n",
    "stype_df.to_csv(savepath, sep='\\t', index=False)\n",
    "print(stype_df.shape)"
   ]
  },
  {
   "cell_type": "code",
   "execution_count": 8,
   "metadata": {},
   "outputs": [
    {
     "name": "stdout",
     "output_type": "stream",
     "text": [
      "(245, 9)\n"
     ]
    },
    {
     "data": {
      "text/html": [
       "<div>\n",
       "<style scoped>\n",
       "    .dataframe tbody tr th:only-of-type {\n",
       "        vertical-align: middle;\n",
       "    }\n",
       "\n",
       "    .dataframe tbody tr th {\n",
       "        vertical-align: top;\n",
       "    }\n",
       "\n",
       "    .dataframe thead th {\n",
       "        text-align: right;\n",
       "    }\n",
       "</style>\n",
       "<table border=\"1\" class=\"dataframe\">\n",
       "  <thead>\n",
       "    <tr style=\"text-align: right;\">\n",
       "      <th></th>\n",
       "      <th>subject</th>\n",
       "      <th>query</th>\n",
       "      <th>description</th>\n",
       "      <th>score</th>\n",
       "      <th>Number of binding alleles</th>\n",
       "      <th>Fraction of binding alleles</th>\n",
       "      <th>Median affinity across 1911 alleles</th>\n",
       "      <th>subject_len</th>\n",
       "      <th>query_len</th>\n",
       "    </tr>\n",
       "  </thead>\n",
       "  <tbody>\n",
       "    <tr>\n",
       "      <th>0</th>\n",
       "      <td>RKSGLVLPKPFERDI</td>\n",
       "      <td>RKSNLKPFERDI</td>\n",
       "      <td>HIRAN domain-containing protein [Urinicoccus s...</td>\n",
       "      <td>32.5</td>\n",
       "      <td>312.0</td>\n",
       "      <td>0.163265</td>\n",
       "      <td>58.24</td>\n",
       "      <td>15</td>\n",
       "      <td>12</td>\n",
       "    </tr>\n",
       "    <tr>\n",
       "      <th>9</th>\n",
       "      <td>RKSNLKVRKQIENFEREINT</td>\n",
       "      <td>RKSNLKPFERDIST</td>\n",
       "      <td>hypothetical protein BBBOND_0313910 [Babesia b...</td>\n",
       "      <td>30.3</td>\n",
       "      <td>64.0</td>\n",
       "      <td>0.033490</td>\n",
       "      <td>80.33</td>\n",
       "      <td>20</td>\n",
       "      <td>14</td>\n",
       "    </tr>\n",
       "  </tbody>\n",
       "</table>\n",
       "</div>"
      ],
      "text/plain": [
       "                subject           query  \\\n",
       "0       RKSGLVLPKPFERDI    RKSNLKPFERDI   \n",
       "9  RKSNLKVRKQIENFEREINT  RKSNLKPFERDIST   \n",
       "\n",
       "                                         description  score  \\\n",
       "0  HIRAN domain-containing protein [Urinicoccus s...   32.5   \n",
       "9  hypothetical protein BBBOND_0313910 [Babesia b...   30.3   \n",
       "\n",
       "   Number of binding alleles  Fraction of binding alleles  \\\n",
       "0                      312.0                     0.163265   \n",
       "9                       64.0                     0.033490   \n",
       "\n",
       "   Median affinity across 1911 alleles  subject_len  query_len  \n",
       "0                                58.24           15         12  \n",
       "9                                80.33           20         14  "
      ]
     },
     "execution_count": 8,
     "metadata": {},
     "output_type": "execute_result"
    }
   ],
   "source": [
    "# Plot only peptides that bind to at least one allele\n",
    "plot_data = common_df[common_df['Fraction of binding alleles']>0]\n",
    "print(plot_data.shape)\n",
    "plot_data.head(2)"
   ]
  },
  {
   "cell_type": "code",
   "execution_count": 9,
   "metadata": {},
   "outputs": [
    {
     "name": "stderr",
     "output_type": "stream",
     "text": [
      "/cellar/users/andreabc/miniconda3/lib/python3.6/site-packages/ipykernel_launcher.py:2: SettingWithCopyWarning: \n",
      "A value is trying to be set on a copy of a slice from a DataFrame.\n",
      "Try using .loc[row_indexer,col_indexer] = value instead\n",
      "\n",
      "See the caveats in the documentation: https://pandas.pydata.org/pandas-docs/stable/user_guide/indexing.html#returning-a-view-versus-a-copy\n",
      "  \n"
     ]
    },
    {
     "data": {
      "text/html": [
       "<div>\n",
       "<style scoped>\n",
       "    .dataframe tbody tr th:only-of-type {\n",
       "        vertical-align: middle;\n",
       "    }\n",
       "\n",
       "    .dataframe tbody tr th {\n",
       "        vertical-align: top;\n",
       "    }\n",
       "\n",
       "    .dataframe thead th {\n",
       "        text-align: right;\n",
       "    }\n",
       "</style>\n",
       "<table border=\"1\" class=\"dataframe\">\n",
       "  <thead>\n",
       "    <tr style=\"text-align: right;\">\n",
       "      <th></th>\n",
       "      <th>subject</th>\n",
       "      <th>query</th>\n",
       "      <th>description</th>\n",
       "      <th>score</th>\n",
       "      <th>Number of binding alleles</th>\n",
       "      <th>Fraction of binding alleles</th>\n",
       "      <th>Median affinity across 1911 alleles</th>\n",
       "      <th>subject_len</th>\n",
       "      <th>query_len</th>\n",
       "      <th>organism</th>\n",
       "    </tr>\n",
       "  </thead>\n",
       "  <tbody>\n",
       "    <tr>\n",
       "      <th>0</th>\n",
       "      <td>RKSGLVLPKPFERDI</td>\n",
       "      <td>RKSNLKPFERDI</td>\n",
       "      <td>HIRAN domain-containing protein [Urinicoccus s...</td>\n",
       "      <td>32.5</td>\n",
       "      <td>312.0</td>\n",
       "      <td>0.163265</td>\n",
       "      <td>58.24</td>\n",
       "      <td>15</td>\n",
       "      <td>12</td>\n",
       "      <td>Urinicoccus sp. Marseille-P3926</td>\n",
       "    </tr>\n",
       "    <tr>\n",
       "      <th>9</th>\n",
       "      <td>RKSNLKVRKQIENFEREINT</td>\n",
       "      <td>RKSNLKPFERDIST</td>\n",
       "      <td>hypothetical protein BBBOND_0313910 [Babesia b...</td>\n",
       "      <td>30.3</td>\n",
       "      <td>64.0</td>\n",
       "      <td>0.033490</td>\n",
       "      <td>80.33</td>\n",
       "      <td>20</td>\n",
       "      <td>14</td>\n",
       "      <td>Babesia bigemina</td>\n",
       "    </tr>\n",
       "  </tbody>\n",
       "</table>\n",
       "</div>"
      ],
      "text/plain": [
       "                subject           query  \\\n",
       "0       RKSGLVLPKPFERDI    RKSNLKPFERDI   \n",
       "9  RKSNLKVRKQIENFEREINT  RKSNLKPFERDIST   \n",
       "\n",
       "                                         description  score  \\\n",
       "0  HIRAN domain-containing protein [Urinicoccus s...   32.5   \n",
       "9  hypothetical protein BBBOND_0313910 [Babesia b...   30.3   \n",
       "\n",
       "   Number of binding alleles  Fraction of binding alleles  \\\n",
       "0                      312.0                     0.163265   \n",
       "9                       64.0                     0.033490   \n",
       "\n",
       "   Median affinity across 1911 alleles  subject_len  query_len  \\\n",
       "0                                58.24           15         12   \n",
       "9                                80.33           20         14   \n",
       "\n",
       "                          organism  \n",
       "0  Urinicoccus sp. Marseille-P3926  \n",
       "9                 Babesia bigemina  "
      ]
     },
     "execution_count": 9,
     "metadata": {},
     "output_type": "execute_result"
    }
   ],
   "source": [
    "# parse out organism information\n",
    "plot_data['organism'] = plot_data['description'].apply(lambda x: x.split('[')[1].split(']')[0])\n",
    "plot_data.head(2)"
   ]
  },
  {
   "cell_type": "markdown",
   "metadata": {},
   "source": [
    "### Plot unique organisms able to bind most"
   ]
  },
  {
   "cell_type": "code",
   "execution_count": 10,
   "metadata": {},
   "outputs": [
    {
     "name": "stdout",
     "output_type": "stream",
     "text": [
      "Saving to ../data/figures/Fig5D.blast.median_affinity.common_alleles.top_35_organisms.bar.pdf\n"
     ]
    },
    {
     "data": {
      "image/png": "[encoded data removed]",
      "text/plain": [
       "<Figure size 360x288 with 1 Axes>"
      ]
     },
     "metadata": {
      "needs_background": "light"
     },
     "output_type": "display_data"
    }
   ],
   "source": [
    "N = 35\n",
    "plt.figure(figsize=(5,4))\n",
    "\n",
    "plot_data = plot_data.sort_values(by='Median affinity across 1911 alleles')\n",
    "sns.barplot(x='organism', y='Median affinity across 1911 alleles', data=plot_data.iloc[:N], \n",
    "            errwidth=0.5, color='lightsteelblue')\n",
    "plt.xticks(rotation=45, ha='right')\n",
    "plt.xlabel('Top {}/{} organisms with the most presentable peptides'.format(N,len(plot_data['organism'].unique())))\n",
    "\n",
    "savepath = '../data/figures/Fig5D.blast.median_affinity.common_alleles.top_{}_organisms.bar.pdf'.format(N)\n",
    "print('Saving to {}'.format(savepath))\n",
    "plt.savefig(savepath, bbox_inches='tight')\n",
    "plt.show()"
   ]
  },
  {
   "cell_type": "markdown",
   "metadata": {},
   "source": [
    "### Plot where do these binding peptides come from (2D)"
   ]
  },
  {
   "cell_type": "code",
   "execution_count": 11,
   "metadata": {},
   "outputs": [
    {
     "data": {
      "text/html": [
       "<div>\n",
       "<style scoped>\n",
       "    .dataframe tbody tr th:only-of-type {\n",
       "        vertical-align: middle;\n",
       "    }\n",
       "\n",
       "    .dataframe tbody tr th {\n",
       "        vertical-align: top;\n",
       "    }\n",
       "\n",
       "    .dataframe thead th {\n",
       "        text-align: right;\n",
       "    }\n",
       "</style>\n",
       "<table border=\"1\" class=\"dataframe\">\n",
       "  <thead>\n",
       "    <tr style=\"text-align: right;\">\n",
       "      <th></th>\n",
       "      <th>subject</th>\n",
       "      <th>query</th>\n",
       "      <th>description</th>\n",
       "      <th>score</th>\n",
       "      <th>Number of binding alleles</th>\n",
       "      <th>Fraction of binding alleles</th>\n",
       "      <th>Median affinity across 1911 alleles</th>\n",
       "      <th>subject_len</th>\n",
       "      <th>query_len</th>\n",
       "      <th>organism</th>\n",
       "      <th>start_pos</th>\n",
       "    </tr>\n",
       "  </thead>\n",
       "  <tbody>\n",
       "    <tr>\n",
       "      <th>301</th>\n",
       "      <td>TSIYEADSTPAQGVE</td>\n",
       "      <td>TEIYQAGSTPCNGVE</td>\n",
       "      <td>Membrane anchor Opy2 [Cordyceps militaris CM01]</td>\n",
       "      <td>27.8</td>\n",
       "      <td>1370.0</td>\n",
       "      <td>0.716902</td>\n",
       "      <td>1.52</td>\n",
       "      <td>15</td>\n",
       "      <td>15</td>\n",
       "      <td>Cordyceps militaris CM01</td>\n",
       "      <td>469</td>\n",
       "    </tr>\n",
       "  </tbody>\n",
       "</table>\n",
       "</div>"
      ],
      "text/plain": [
       "             subject            query  \\\n",
       "301  TSIYEADSTPAQGVE  TEIYQAGSTPCNGVE   \n",
       "\n",
       "                                         description  score  \\\n",
       "301  Membrane anchor Opy2 [Cordyceps militaris CM01]   27.8   \n",
       "\n",
       "     Number of binding alleles  Fraction of binding alleles  \\\n",
       "301                     1370.0                     0.716902   \n",
       "\n",
       "     Median affinity across 1911 alleles  subject_len  query_len  \\\n",
       "301                                 1.52           15         15   \n",
       "\n",
       "                     organism  start_pos  \n",
       "301  Cordyceps militaris CM01        469  "
      ]
     },
     "execution_count": 11,
     "metadata": {},
     "output_type": "execute_result"
    }
   ],
   "source": [
    "plot_data['start_pos'] = plot_data['query'].apply(lambda x: sp.find(x))\n",
    "plot_data.head(1)"
   ]
  },
  {
   "cell_type": "code",
   "execution_count": 12,
   "metadata": {},
   "outputs": [
    {
     "data": {
      "text/plain": [
       "(455, 506)"
      ]
     },
     "execution_count": 12,
     "metadata": {},
     "output_type": "execute_result"
    }
   ],
   "source": [
    "plot_data['start_pos'].min(),plot_data['start_pos'].max()"
   ]
  },
  {
   "cell_type": "code",
   "execution_count": 13,
   "metadata": {},
   "outputs": [
    {
     "data": {
      "text/html": [
       "<div>\n",
       "<style scoped>\n",
       "    .dataframe tbody tr th:only-of-type {\n",
       "        vertical-align: middle;\n",
       "    }\n",
       "\n",
       "    .dataframe tbody tr th {\n",
       "        vertical-align: top;\n",
       "    }\n",
       "\n",
       "    .dataframe thead th {\n",
       "        text-align: right;\n",
       "    }\n",
       "</style>\n",
       "<table border=\"1\" class=\"dataframe\">\n",
       "  <thead>\n",
       "    <tr style=\"text-align: right;\">\n",
       "      <th></th>\n",
       "      <th>position</th>\n",
       "      <th>supertype</th>\n",
       "      <th>position_score</th>\n",
       "    </tr>\n",
       "  </thead>\n",
       "  <tbody>\n",
       "    <tr>\n",
       "      <th>0</th>\n",
       "      <td>0</td>\n",
       "      <td>DP2</td>\n",
       "      <td>59.1</td>\n",
       "    </tr>\n",
       "    <tr>\n",
       "      <th>1</th>\n",
       "      <td>1</td>\n",
       "      <td>DP2</td>\n",
       "      <td>59.1</td>\n",
       "    </tr>\n",
       "  </tbody>\n",
       "</table>\n",
       "</div>"
      ],
      "text/plain": [
       "   position supertype  position_score\n",
       "0         0       DP2            59.1\n",
       "1         1       DP2            59.1"
      ]
     },
     "execution_count": 13,
     "metadata": {},
     "output_type": "execute_result"
    }
   ],
   "source": [
    "# Overall position distribution for comparison\n",
    "supertype_pos_score_df = pd.read_csv('../data/generated_data/position_score.supertypes.tsv', sep='\\t')\n",
    "supertype_pos_score_df = pd.wide_to_long(supertype_pos_score_df, i='position', j='supertype', \n",
    "                                         sep='_', suffix='\\w+', stubnames='position_score').reset_index()\n",
    "supertype_pos_score_df.head(2)"
   ]
  },
  {
   "cell_type": "code",
   "execution_count": 14,
   "metadata": {},
   "outputs": [
    {
     "name": "stdout",
     "output_type": "stream",
     "text": [
      "Saving to ../data/figures/FigS2A.blast.binding_common_alleles.position.distplot_barplot.pdf\n"
     ]
    },
    {
     "data": {
      "image/png": "[encoded data removed]",
      "text/plain": [
       "<Figure size 432x288 with 2 Axes>"
      ]
     },
     "metadata": {
      "needs_background": "light"
     },
     "output_type": "display_data"
    }
   ],
   "source": [
    "plt.figure(figsize=(6,4))\n",
    "\n",
    "plt.subplot(2,1,1)\n",
    "sns.distplot(plot_data['start_pos'])\n",
    "plt.xlim(445,504)\n",
    "plt.ylabel('Density')\n",
    "\n",
    "plt.subplot(2,1,2)\n",
    "sns.barplot(x='position', y='position_score', color='lightgrey', errwidth=0.5,\n",
    "        data=supertype_pos_score_df[(supertype_pos_score_df['position']>=455)&(supertype_pos_score_df['position']<=504)])\n",
    "plt.xticks(rotation=90)\n",
    "plt.ylabel('Position affinity scores'), plt.xlabel('SARS-CoV-2 spike protein positions')\n",
    "\n",
    "savepath = '../data/figures/FigS2A.blast.binding_common_alleles.position.distplot_barplot.pdf'\n",
    "print('Saving to {}'.format(savepath))\n",
    "plt.savefig(savepath)"
   ]
  },
  {
   "cell_type": "code",
   "execution_count": 15,
   "metadata": {},
   "outputs": [
    {
     "data": {
      "text/html": [
       "<div>\n",
       "<style scoped>\n",
       "    .dataframe tbody tr th:only-of-type {\n",
       "        vertical-align: middle;\n",
       "    }\n",
       "\n",
       "    .dataframe tbody tr th {\n",
       "        vertical-align: top;\n",
       "    }\n",
       "\n",
       "    .dataframe thead th {\n",
       "        text-align: right;\n",
       "    }\n",
       "</style>\n",
       "<table border=\"1\" class=\"dataframe\">\n",
       "  <thead>\n",
       "    <tr style=\"text-align: right;\">\n",
       "      <th>supertype</th>\n",
       "      <th>DP2</th>\n",
       "      <th>DQ7</th>\n",
       "      <th>DR4</th>\n",
       "      <th>DRB3</th>\n",
       "      <th>main_DP</th>\n",
       "      <th>main_DQ</th>\n",
       "      <th>main_DR</th>\n",
       "    </tr>\n",
       "    <tr>\n",
       "      <th>Peptide</th>\n",
       "      <th></th>\n",
       "      <th></th>\n",
       "      <th></th>\n",
       "      <th></th>\n",
       "      <th></th>\n",
       "      <th></th>\n",
       "      <th></th>\n",
       "    </tr>\n",
       "  </thead>\n",
       "  <tbody>\n",
       "    <tr>\n",
       "      <th>ADSTPCDGVE</th>\n",
       "      <td>95.0</td>\n",
       "      <td>95.00</td>\n",
       "      <td>95.0</td>\n",
       "      <td>95.0</td>\n",
       "      <td>95.0</td>\n",
       "      <td>95.00</td>\n",
       "      <td>95.0</td>\n",
       "    </tr>\n",
       "    <tr>\n",
       "      <th>AGSAPVNSVEGF</th>\n",
       "      <td>95.0</td>\n",
       "      <td>79.83</td>\n",
       "      <td>95.0</td>\n",
       "      <td>95.0</td>\n",
       "      <td>95.0</td>\n",
       "      <td>91.25</td>\n",
       "      <td>95.0</td>\n",
       "    </tr>\n",
       "    <tr>\n",
       "      <th>AGSGVEAFNCY</th>\n",
       "      <td>95.0</td>\n",
       "      <td>95.00</td>\n",
       "      <td>95.0</td>\n",
       "      <td>95.0</td>\n",
       "      <td>95.0</td>\n",
       "      <td>95.00</td>\n",
       "      <td>95.0</td>\n",
       "    </tr>\n",
       "    <tr>\n",
       "      <th>AGSSNCNGVEG</th>\n",
       "      <td>95.0</td>\n",
       "      <td>95.00</td>\n",
       "      <td>95.0</td>\n",
       "      <td>95.0</td>\n",
       "      <td>95.0</td>\n",
       "      <td>95.00</td>\n",
       "      <td>95.0</td>\n",
       "    </tr>\n",
       "    <tr>\n",
       "      <th>AGSTDECNSDTGRCICKDNVEGFNC</th>\n",
       "      <td>95.0</td>\n",
       "      <td>95.00</td>\n",
       "      <td>95.0</td>\n",
       "      <td>91.7</td>\n",
       "      <td>95.0</td>\n",
       "      <td>95.00</td>\n",
       "      <td>95.0</td>\n",
       "    </tr>\n",
       "  </tbody>\n",
       "</table>\n",
       "</div>"
      ],
      "text/plain": [
       "supertype                   DP2    DQ7   DR4  DRB3  main_DP  main_DQ  main_DR\n",
       "Peptide                                                                      \n",
       "ADSTPCDGVE                 95.0  95.00  95.0  95.0     95.0    95.00     95.0\n",
       "AGSAPVNSVEGF               95.0  79.83  95.0  95.0     95.0    91.25     95.0\n",
       "AGSGVEAFNCY                95.0  95.00  95.0  95.0     95.0    95.00     95.0\n",
       "AGSSNCNGVEG                95.0  95.00  95.0  95.0     95.0    95.00     95.0\n",
       "AGSTDECNSDTGRCICKDNVEGFNC  95.0  95.00  95.0  91.7     95.0    95.00     95.0"
      ]
     },
     "execution_count": 15,
     "metadata": {},
     "output_type": "execute_result"
    }
   ],
   "source": [
    "stype_melted_df = stype_melted_df[stype_melted_df['Peptide'].isin(blast_peptide_df['subject'].unique())]\n",
    "stype_melted_df = pd.merge(stype_melted_df, supertype_df, left_on='Allele', right_on='expanded_alleles', how='left')\n",
    "supertype_median_aff_df = stype_melted_df.pivot_table(index='Peptide', columns='supertype', \n",
    "                                                values='Affinity', aggfunc='median')\n",
    "supertype_median_aff_df.head()"
   ]
  },
  {
   "cell_type": "code",
   "execution_count": 16,
   "metadata": {},
   "outputs": [
    {
     "data": {
      "text/html": [
       "<div>\n",
       "<style scoped>\n",
       "    .dataframe tbody tr th:only-of-type {\n",
       "        vertical-align: middle;\n",
       "    }\n",
       "\n",
       "    .dataframe tbody tr th {\n",
       "        vertical-align: top;\n",
       "    }\n",
       "\n",
       "    .dataframe thead th {\n",
       "        text-align: right;\n",
       "    }\n",
       "</style>\n",
       "<table border=\"1\" class=\"dataframe\">\n",
       "  <thead>\n",
       "    <tr style=\"text-align: right;\">\n",
       "      <th></th>\n",
       "      <th>Peptide</th>\n",
       "      <th>supertype</th>\n",
       "      <th>median affinity</th>\n",
       "    </tr>\n",
       "  </thead>\n",
       "  <tbody>\n",
       "    <tr>\n",
       "      <th>14</th>\n",
       "      <td>CNGVEGIYFPSLHS</td>\n",
       "      <td>DP2</td>\n",
       "      <td>6.51</td>\n",
       "    </tr>\n",
       "    <tr>\n",
       "      <th>24</th>\n",
       "      <td>DISSEIYQATGRGST</td>\n",
       "      <td>DP2</td>\n",
       "      <td>3.73</td>\n",
       "    </tr>\n",
       "    <tr>\n",
       "      <th>25</th>\n",
       "      <td>DISTEIYQFDTVAGTP</td>\n",
       "      <td>DP2</td>\n",
       "      <td>15.44</td>\n",
       "    </tr>\n",
       "    <tr>\n",
       "      <th>34</th>\n",
       "      <td>DVSTEIYQFDTAAGTP</td>\n",
       "      <td>DP2</td>\n",
       "      <td>11.37</td>\n",
       "    </tr>\n",
       "    <tr>\n",
       "      <th>39</th>\n",
       "      <td>EISSEIYQATGRGST</td>\n",
       "      <td>DP2</td>\n",
       "      <td>3.52</td>\n",
       "    </tr>\n",
       "  </tbody>\n",
       "</table>\n",
       "</div>"
      ],
      "text/plain": [
       "             Peptide supertype  median affinity\n",
       "14    CNGVEGIYFPSLHS       DP2             6.51\n",
       "24   DISSEIYQATGRGST       DP2             3.73\n",
       "25  DISTEIYQFDTVAGTP       DP2            15.44\n",
       "34  DVSTEIYQFDTAAGTP       DP2            11.37\n",
       "39   EISSEIYQATGRGST       DP2             3.52"
      ]
     },
     "execution_count": 16,
     "metadata": {},
     "output_type": "execute_result"
    }
   ],
   "source": [
    "supertype_median_aff_df = pd.melt(supertype_median_aff_df.reset_index(), id_vars=['Peptide'], var_name='supertype', value_name='median affinity')\n",
    "filtered_supertype_median_aff_df = supertype_median_aff_df[supertype_median_aff_df['median affinity']<20]\n",
    "filtered_supertype_median_aff_df.head()"
   ]
  },
  {
   "cell_type": "code",
   "execution_count": 17,
   "metadata": {},
   "outputs": [
    {
     "data": {
      "text/html": [
       "<div>\n",
       "<style scoped>\n",
       "    .dataframe tbody tr th:only-of-type {\n",
       "        vertical-align: middle;\n",
       "    }\n",
       "\n",
       "    .dataframe tbody tr th {\n",
       "        vertical-align: top;\n",
       "    }\n",
       "\n",
       "    .dataframe thead th {\n",
       "        text-align: right;\n",
       "    }\n",
       "</style>\n",
       "<table border=\"1\" class=\"dataframe\">\n",
       "  <thead>\n",
       "    <tr style=\"text-align: right;\">\n",
       "      <th></th>\n",
       "      <th>Peptide</th>\n",
       "      <th>supertype</th>\n",
       "      <th>median affinity</th>\n",
       "      <th>subject</th>\n",
       "      <th>query</th>\n",
       "      <th>description</th>\n",
       "      <th>score</th>\n",
       "      <th>peptide</th>\n",
       "      <th>corresponding_start_position</th>\n",
       "    </tr>\n",
       "  </thead>\n",
       "  <tbody>\n",
       "    <tr>\n",
       "      <th>0</th>\n",
       "      <td>CNGVEGIYFPSLHS</td>\n",
       "      <td>DP2</td>\n",
       "      <td>6.51</td>\n",
       "      <td>CNGVEGIYFPSLHS</td>\n",
       "      <td>CNGVEGFNCYFPLQS</td>\n",
       "      <td>histone-lysine N-methyltransferase ATX5 [Prunu...</td>\n",
       "      <td>29.9</td>\n",
       "      <td>24</td>\n",
       "      <td>479</td>\n",
       "    </tr>\n",
       "    <tr>\n",
       "      <th>1</th>\n",
       "      <td>CNGVEGIYFPSLHS</td>\n",
       "      <td>DP2</td>\n",
       "      <td>6.51</td>\n",
       "      <td>CNGVEGIYFPSLHS</td>\n",
       "      <td>CNGVEGFNCYFPLQS</td>\n",
       "      <td>histone-lysine N-methyltransferase ATX5 [Prunu...</td>\n",
       "      <td>29.9</td>\n",
       "      <td>24</td>\n",
       "      <td>479</td>\n",
       "    </tr>\n",
       "    <tr>\n",
       "      <th>2</th>\n",
       "      <td>CNGVEGIYFPSLHS</td>\n",
       "      <td>DP2</td>\n",
       "      <td>6.51</td>\n",
       "      <td>CNGVEGIYFPSLHS</td>\n",
       "      <td>CNGVEGFNCYFPLQS</td>\n",
       "      <td>PREDICTED: histone-lysine N-methyltransferase ...</td>\n",
       "      <td>29.9</td>\n",
       "      <td>24</td>\n",
       "      <td>479</td>\n",
       "    </tr>\n",
       "    <tr>\n",
       "      <th>3</th>\n",
       "      <td>CNGVEGIYFPSLHS</td>\n",
       "      <td>DP2</td>\n",
       "      <td>6.51</td>\n",
       "      <td>CNGVEGIYFPSLHS</td>\n",
       "      <td>CNGVEGFNCYFPLQS</td>\n",
       "      <td>histone-lysine N-methyltransferase ATX5 [Prunu...</td>\n",
       "      <td>29.9</td>\n",
       "      <td>24</td>\n",
       "      <td>479</td>\n",
       "    </tr>\n",
       "    <tr>\n",
       "      <th>4</th>\n",
       "      <td>CNGVEGIYFPSLHS</td>\n",
       "      <td>DP2</td>\n",
       "      <td>6.51</td>\n",
       "      <td>CNGVEGIYFPSLHS</td>\n",
       "      <td>CNGVEGFNCYFPLQS</td>\n",
       "      <td>PREDICTED: histone-lysine N-methyltransferase ...</td>\n",
       "      <td>29.9</td>\n",
       "      <td>24</td>\n",
       "      <td>479</td>\n",
       "    </tr>\n",
       "  </tbody>\n",
       "</table>\n",
       "</div>"
      ],
      "text/plain": [
       "          Peptide supertype  median affinity         subject            query  \\\n",
       "0  CNGVEGIYFPSLHS       DP2             6.51  CNGVEGIYFPSLHS  CNGVEGFNCYFPLQS   \n",
       "1  CNGVEGIYFPSLHS       DP2             6.51  CNGVEGIYFPSLHS  CNGVEGFNCYFPLQS   \n",
       "2  CNGVEGIYFPSLHS       DP2             6.51  CNGVEGIYFPSLHS  CNGVEGFNCYFPLQS   \n",
       "3  CNGVEGIYFPSLHS       DP2             6.51  CNGVEGIYFPSLHS  CNGVEGFNCYFPLQS   \n",
       "4  CNGVEGIYFPSLHS       DP2             6.51  CNGVEGIYFPSLHS  CNGVEGFNCYFPLQS   \n",
       "\n",
       "                                         description  score  peptide  \\\n",
       "0  histone-lysine N-methyltransferase ATX5 [Prunu...   29.9       24   \n",
       "1  histone-lysine N-methyltransferase ATX5 [Prunu...   29.9       24   \n",
       "2  PREDICTED: histone-lysine N-methyltransferase ...   29.9       24   \n",
       "3  histone-lysine N-methyltransferase ATX5 [Prunu...   29.9       24   \n",
       "4  PREDICTED: histone-lysine N-methyltransferase ...   29.9       24   \n",
       "\n",
       "   corresponding_start_position  \n",
       "0                           479  \n",
       "1                           479  \n",
       "2                           479  \n",
       "3                           479  \n",
       "4                           479  "
      ]
     },
     "execution_count": 17,
     "metadata": {},
     "output_type": "execute_result"
    }
   ],
   "source": [
    "filtered_supertype_median_aff_df = pd.merge(filtered_supertype_median_aff_df, blast_peptide_df, left_on='Peptide', right_on='subject', how='left')\n",
    "filtered_supertype_median_aff_df['corresponding_start_position'] = filtered_supertype_median_aff_df['query'].apply(lambda x: sp.find(x))\n",
    "filtered_supertype_median_aff_df.head()"
   ]
  },
  {
   "cell_type": "code",
   "execution_count": 18,
   "metadata": {},
   "outputs": [
    {
     "data": {
      "text/html": [
       "<div>\n",
       "<style scoped>\n",
       "    .dataframe tbody tr th:only-of-type {\n",
       "        vertical-align: middle;\n",
       "    }\n",
       "\n",
       "    .dataframe tbody tr th {\n",
       "        vertical-align: top;\n",
       "    }\n",
       "\n",
       "    .dataframe thead th {\n",
       "        text-align: right;\n",
       "    }\n",
       "</style>\n",
       "<table border=\"1\" class=\"dataframe\">\n",
       "  <thead>\n",
       "    <tr style=\"text-align: right;\">\n",
       "      <th>supertype</th>\n",
       "      <th>DP2</th>\n",
       "      <th>DQ7</th>\n",
       "      <th>DR4</th>\n",
       "      <th>DRB3</th>\n",
       "      <th>main_DP</th>\n",
       "      <th>main_DQ</th>\n",
       "      <th>main_DR</th>\n",
       "    </tr>\n",
       "    <tr>\n",
       "      <th>Peptide</th>\n",
       "      <th></th>\n",
       "      <th></th>\n",
       "      <th></th>\n",
       "      <th></th>\n",
       "      <th></th>\n",
       "      <th></th>\n",
       "      <th></th>\n",
       "    </tr>\n",
       "  </thead>\n",
       "  <tbody>\n",
       "    <tr>\n",
       "      <th>CNGVEGIYFPSLHS</th>\n",
       "      <td>6.51</td>\n",
       "      <td>NaN</td>\n",
       "      <td>NaN</td>\n",
       "      <td>NaN</td>\n",
       "      <td>16.570</td>\n",
       "      <td>NaN</td>\n",
       "      <td>NaN</td>\n",
       "    </tr>\n",
       "    <tr>\n",
       "      <th>DISSEIYQATGRGST</th>\n",
       "      <td>3.73</td>\n",
       "      <td>8.630</td>\n",
       "      <td>NaN</td>\n",
       "      <td>NaN</td>\n",
       "      <td>11.570</td>\n",
       "      <td>NaN</td>\n",
       "      <td>NaN</td>\n",
       "    </tr>\n",
       "    <tr>\n",
       "      <th>DISTEIYQFDTVAGTP</th>\n",
       "      <td>15.44</td>\n",
       "      <td>6.245</td>\n",
       "      <td>1.75</td>\n",
       "      <td>4.76</td>\n",
       "      <td>13.160</td>\n",
       "      <td>1.83</td>\n",
       "      <td>15.66</td>\n",
       "    </tr>\n",
       "    <tr>\n",
       "      <th>DRDETARRISTDIYHAGS</th>\n",
       "      <td>NaN</td>\n",
       "      <td>NaN</td>\n",
       "      <td>NaN</td>\n",
       "      <td>NaN</td>\n",
       "      <td>12.725</td>\n",
       "      <td>NaN</td>\n",
       "      <td>2.26</td>\n",
       "    </tr>\n",
       "    <tr>\n",
       "      <th>DVSTEIYQFDTAAGTP</th>\n",
       "      <td>11.37</td>\n",
       "      <td>4.160</td>\n",
       "      <td>1.47</td>\n",
       "      <td>4.44</td>\n",
       "      <td>9.800</td>\n",
       "      <td>0.81</td>\n",
       "      <td>7.80</td>\n",
       "    </tr>\n",
       "  </tbody>\n",
       "</table>\n",
       "</div>"
      ],
      "text/plain": [
       "supertype             DP2    DQ7   DR4  DRB3  main_DP  main_DQ  main_DR\n",
       "Peptide                                                                \n",
       "CNGVEGIYFPSLHS       6.51    NaN   NaN   NaN   16.570      NaN      NaN\n",
       "DISSEIYQATGRGST      3.73  8.630   NaN   NaN   11.570      NaN      NaN\n",
       "DISTEIYQFDTVAGTP    15.44  6.245  1.75  4.76   13.160     1.83    15.66\n",
       "DRDETARRISTDIYHAGS    NaN    NaN   NaN   NaN   12.725      NaN     2.26\n",
       "DVSTEIYQFDTAAGTP    11.37  4.160  1.47  4.44    9.800     0.81     7.80"
      ]
     },
     "execution_count": 18,
     "metadata": {},
     "output_type": "execute_result"
    }
   ],
   "source": [
    "plot_data= filtered_supertype_median_aff_df.pivot_table(index='Peptide', columns='supertype', values='median affinity')\n",
    "plot_data.head()"
   ]
  },
  {
   "cell_type": "code",
   "execution_count": 19,
   "metadata": {},
   "outputs": [
    {
     "name": "stdout",
     "output_type": "stream",
     "text": [
      "Saving to ../data/figures/FigS2C.blast.binding_20.supertype_alleles.clustermap.pdf\n"
     ]
    },
    {
     "data": {
      "image/png": "[encoded data removed]",
      "text/plain": [
       "<Figure size 1008x1008 with 4 Axes>"
      ]
     },
     "metadata": {
      "needs_background": "light"
     },
     "output_type": "display_data"
    }
   ],
   "source": [
    "cm = sns.clustermap(plot_data.fillna(20), cmap='rocket_r', yticklabels=True,figsize=(14,14))\n",
    "cm.ax_heatmap.set_yticklabels(cm.ax_heatmap.get_ymajorticklabels(), fontsize=6)\n",
    "savepath = '../data/figures/FigS2C.blast.binding_20.supertype_alleles.clustermap.pdf'\n",
    "print('Saving to {}'.format(savepath))\n",
    "cm.savefig(savepath)"
   ]
  },
  {
   "cell_type": "code",
   "execution_count": 20,
   "metadata": {},
   "outputs": [],
   "source": [
    "# supertype colors\n",
    "stype_order = ['main_DQ','DQ7','main_DR','DRB3','DR4','main_DP','DP2']\n",
    "cmap = plt.cm.tab20(np.linspace(0.1,0.9,len(stype_order)))\n",
    "supertype_color_dict = dict(zip(stype_order, cmap))"
   ]
  },
  {
   "cell_type": "code",
   "execution_count": 21,
   "metadata": {},
   "outputs": [
    {
     "data": {
      "image/png": "[encoded data removed]",
      "text/plain": [
       "<Figure size 576x288 with 1 Axes>"
      ]
     },
     "metadata": {
      "needs_background": "light"
     },
     "output_type": "display_data"
    }
   ],
   "source": [
    "plt.figure(figsize=(8,4))\n",
    "for i, stype in enumerate(filtered_supertype_median_aff_df['supertype'].unique()):\n",
    "    temp_df = filtered_supertype_median_aff_df[filtered_supertype_median_aff_df['supertype']==stype]\n",
    "    plt.scatter(temp_df['corresponding_start_position'].values, \n",
    "                temp_df['median affinity'].values, \n",
    "             label=stype, alpha=0.5, color=supertype_color_dict[stype])\n",
    "plt.axvspan(485,489, alpha=0.1, label='FNCY', color='grey') \n",
    "plt.axhline(10, ls='--', lw=1.1)\n",
    "plt.legend(bbox_to_anchor=(1,0.8))\n",
    "plt.xlabel('Corresponding start position of query peptide')\n",
    "plt.ylabel('Supertype median affinity of subject peptide')\n",
    "plt.title('Showing BLAST peptides with median aff < 20')\n",
    "\n",
    "savepath = '../data/figures/FigS2B.blast.binding_supertypes.scatterplot.pdf'\n",
    "plt.savefig(savepath, bbox_inches='tight')\n",
    "plt.show()"
   ]
  },
  {
   "cell_type": "code",
   "execution_count": null,
   "metadata": {},
   "outputs": [],
   "source": []
  }
 ],
 "metadata": {
  "kernelspec": {
   "display_name": "Python 3",
   "language": "python",
   "name": "python3"
  },
  "language_info": {
   "codemirror_mode": {
    "name": "ipython",
    "version": 3
   },
   "file_extension": ".py",
   "mimetype": "text/x-python",
   "name": "python",
   "nbconvert_exporter": "python",
   "pygments_lexer": "ipython3",
   "version": "3.6.8"
  }
 },
 "nbformat": 4,
 "nbformat_minor": 4
}
