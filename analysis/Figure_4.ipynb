{
 "cells": [
  {
   "cell_type": "markdown",
   "metadata": {},
   "source": [
    "### Notebook\n",
    "- Mateus plots"
   ]
  },
  {
   "cell_type": "code",
   "execution_count": 1,
   "metadata": {},
   "outputs": [
    {
     "name": "stderr",
     "output_type": "stream",
     "text": [
      "/cellar/users/andreabc/miniconda3/lib/python3.6/site-packages/statsmodels/tools/_testing.py:19: FutureWarning: pandas.util.testing is deprecated. Use the functions in the public API at pandas.testing instead.\n",
      "  import pandas.util.testing as tm\n"
     ]
    }
   ],
   "source": [
    "import pandas as pd\n",
    "import numpy as np\n",
    "from collections import defaultdict\n",
    "from more_itertools import consecutive_groups \n",
    "from Bio.SeqIO import parse\n",
    "\n",
    "import matplotlib.pyplot as plt\n",
    "\n",
    "import seaborn as sns\n",
    "sns.set_style('white')\n",
    "sns.set_style('ticks')\n",
    "%matplotlib inline\n",
    "\n",
    "import matplotlib as mpl\n",
    "mpl.rcParams['pdf.fonttype'] = 42"
   ]
  },
  {
   "cell_type": "markdown",
   "metadata": {},
   "source": [
    "### Load data"
   ]
  },
  {
   "cell_type": "code",
   "execution_count": 2,
   "metadata": {},
   "outputs": [
    {
     "name": "stdout",
     "output_type": "stream",
     "text": [
      "1273\n"
     ]
    },
    {
     "data": {
      "text/plain": [
       "'MFVFLVLLPL'"
      ]
     },
     "execution_count": 2,
     "metadata": {},
     "output_type": "execute_result"
    }
   ],
   "source": [
    "with open('../data/refs/P0DTC2.fasta', 'r') as handle:\n",
    "    for line in parse(handle, 'fasta'):\n",
    "        sp = str(line.seq)\n",
    "print(len(sp))\n",
    "sp[:10]"
   ]
  },
  {
   "cell_type": "code",
   "execution_count": 3,
   "metadata": {},
   "outputs": [
    {
     "name": "stdout",
     "output_type": "stream",
     "text": [
      "(66, 12)\n"
     ]
    },
    {
     "data": {
      "text/html": [
       "<div>\n",
       "<style scoped>\n",
       "    .dataframe tbody tr th:only-of-type {\n",
       "        vertical-align: middle;\n",
       "    }\n",
       "\n",
       "    .dataframe tbody tr th {\n",
       "        vertical-align: top;\n",
       "    }\n",
       "\n",
       "    .dataframe thead th {\n",
       "        text-align: right;\n",
       "    }\n",
       "</style>\n",
       "<table border=\"1\" class=\"dataframe\">\n",
       "  <thead>\n",
       "    <tr style=\"text-align: right;\">\n",
       "      <th></th>\n",
       "      <th>Sequence</th>\n",
       "      <th>Protein</th>\n",
       "      <th>Start</th>\n",
       "      <th>\"+\"/tested</th>\n",
       "      <th>SFC (10^6 PBMC)</th>\n",
       "      <th>Response type</th>\n",
       "      <th>Potential HLA restriction(s)</th>\n",
       "      <th>CD4R -30</th>\n",
       "      <th>CD4 S-31</th>\n",
       "      <th>+ percent</th>\n",
       "      <th>pos</th>\n",
       "      <th>SFC (10^6 PBMC) log</th>\n",
       "    </tr>\n",
       "  </thead>\n",
       "  <tbody>\n",
       "    <tr>\n",
       "      <th>98</th>\n",
       "      <td>VLLPLVSSQCVNLTT</td>\n",
       "      <td>S (non-RBD)</td>\n",
       "      <td>6.0</td>\n",
       "      <td>1/16</td>\n",
       "      <td>440.0</td>\n",
       "      <td>CD4</td>\n",
       "      <td>DRB1*0701</td>\n",
       "      <td>No</td>\n",
       "      <td>No</td>\n",
       "      <td>6.25</td>\n",
       "      <td>5.0</td>\n",
       "      <td>6.086775</td>\n",
       "    </tr>\n",
       "    <tr>\n",
       "      <th>133</th>\n",
       "      <td>SFTRGVYYPDKVFRS</td>\n",
       "      <td>S (non-RBD)</td>\n",
       "      <td>31.0</td>\n",
       "      <td>1/16</td>\n",
       "      <td>160.0</td>\n",
       "      <td>CD4</td>\n",
       "      <td>NaN</td>\n",
       "      <td>No</td>\n",
       "      <td>No</td>\n",
       "      <td>6.25</td>\n",
       "      <td>30.0</td>\n",
       "      <td>5.075174</td>\n",
       "    </tr>\n",
       "  </tbody>\n",
       "</table>\n",
       "</div>"
      ],
      "text/plain": [
       "            Sequence      Protein  Start \"+\"/tested  SFC (10^6 PBMC)  \\\n",
       "98   VLLPLVSSQCVNLTT  S (non-RBD)    6.0       1/16            440.0   \n",
       "133  SFTRGVYYPDKVFRS  S (non-RBD)   31.0       1/16            160.0   \n",
       "\n",
       "    Response type Potential HLA restriction(s) CD4R -30 CD4 S-31  + percent  \\\n",
       "98            CD4                    DRB1*0701       No       No       6.25   \n",
       "133           CD4                          NaN       No       No       6.25   \n",
       "\n",
       "      pos  SFC (10^6 PBMC) log  \n",
       "98    5.0             6.086775  \n",
       "133  30.0             5.075174  "
      ]
     },
     "execution_count": 3,
     "metadata": {},
     "output_type": "execute_result"
    }
   ],
   "source": [
    "science_df = pd.read_csv('../data/refs/Science_TableS1.tsv', sep='\\t')\n",
    "science_df = science_df[science_df['Protein'].isin(['S (non-RBD)', 'S (RBD)'])]\n",
    "science_df = science_df.sort_values(by='Start')\n",
    "science_df['+ percent'] = science_df['\"+\"/tested'].apply(lambda x: 100*int(x.split('/')[0])/int(x.split('/')[-1]))\n",
    "science_df['pos'] = science_df['Start'].apply(lambda x: x-1)\n",
    "science_df['SFC (10^6 PBMC) log'] = science_df['SFC (10^6 PBMC)'].apply(np.log)\n",
    "print(science_df.shape)\n",
    "science_df.head(2)"
   ]
  },
  {
   "cell_type": "code",
   "execution_count": 4,
   "metadata": {},
   "outputs": [],
   "source": [
    "region_domains = {\n",
    "    'RBD (319-541)': (319-1,541, 'orange'),\n",
    "    'RBD motif (437-508)': (437-1, 508, 'red'),\n",
    "    'Fusion peptide 1 (816-837)': (816-1, 837, 'lightgreen'),\n",
    "    'Fusion peptide 2 (835-855)': (835-1, 855, 'darkgreen'),\n",
    "    'Heptad repeat 1 (920-970)': (920-1, 970, 'darkblue'),\n",
    "    'Heptad repeat 2 (1163-1202)': (1163-1, 1202, 'blue')\n",
    "}"
   ]
  },
  {
   "cell_type": "markdown",
   "metadata": {},
   "source": [
    "##### How many CD4 T cell responses against the RBM site vs total CD4 T cell response?"
   ]
  },
  {
   "cell_type": "code",
   "execution_count": 5,
   "metadata": {},
   "outputs": [
    {
     "data": {
      "text/plain": [
       "66"
      ]
     },
     "execution_count": 5,
     "metadata": {},
     "output_type": "execute_result"
    }
   ],
   "source": [
    "len(science_df['Sequence'].unique())"
   ]
  },
  {
   "cell_type": "code",
   "execution_count": 6,
   "metadata": {},
   "outputs": [
    {
     "name": "stdout",
     "output_type": "stream",
     "text": [
      "2 + CD4 responses to RBM / 110 + CD4 responses total\n"
     ]
    },
    {
     "name": "stderr",
     "output_type": "stream",
     "text": [
      "/cellar/users/andreabc/miniconda3/lib/python3.6/site-packages/ipykernel_launcher.py:2: SettingWithCopyWarning: \n",
      "A value is trying to be set on a copy of a slice from a DataFrame.\n",
      "Try using .loc[row_indexer,col_indexer] = value instead\n",
      "\n",
      "See the caveats in the documentation: https://pandas.pydata.org/pandas-docs/stable/user_guide/indexing.html#returning-a-view-versus-a-copy\n",
      "  \n",
      "/cellar/users/andreabc/miniconda3/lib/python3.6/site-packages/ipykernel_launcher.py:3: SettingWithCopyWarning: \n",
      "A value is trying to be set on a copy of a slice from a DataFrame.\n",
      "Try using .loc[row_indexer,col_indexer] = value instead\n",
      "\n",
      "See the caveats in the documentation: https://pandas.pydata.org/pandas-docs/stable/user_guide/indexing.html#returning-a-view-versus-a-copy\n",
      "  This is separate from the ipykernel package so we can avoid doing imports until\n"
     ]
    }
   ],
   "source": [
    "cd4_response_df = science_df[science_df['Response type'].str.contains('CD4')]\n",
    "cd4_response_df['+'] = cd4_response_df['\"+\"/tested'].apply(lambda x: int(x.split('/')[0]))\n",
    "cd4_response_df['+ total'] = cd4_response_df['\"+\"/tested'].apply(lambda x: int(x.split('/')[1]))\n",
    "\n",
    "total_positive_responses = cd4_response_df['+'].sum()\n",
    "total_positive_responses_to_RBM = cd4_response_df[cd4_response_df['Start'].isin(range(*region_domains['RBD motif (437-508)'][:2]))]\n",
    "total_positive_responses_to_RBM = total_positive_responses_to_RBM['+'].sum()\n",
    "\n",
    "print('{} + CD4 responses to RBM / {} + CD4 responses total'.format(total_positive_responses_to_RBM, total_positive_responses))"
   ]
  },
  {
   "cell_type": "markdown",
   "metadata": {},
   "source": [
    "### Plots"
   ]
  },
  {
   "cell_type": "code",
   "execution_count": 7,
   "metadata": {},
   "outputs": [
    {
     "name": "stdout",
     "output_type": "stream",
     "text": [
      "Saving to ../data/figures/Fig4.pdf\n"
     ]
    },
    {
     "data": {
      "image/png": "[encoded data removed]",
      "text/plain": [
       "<Figure size 864x288 with 2 Axes>"
      ]
     },
     "metadata": {
      "needs_background": "light"
     },
     "output_type": "display_data"
    }
   ],
   "source": [
    "plt.figure(figsize=(12,4))\n",
    "\n",
    "### A. + responses \n",
    "plt.subplot(2,1,1)\n",
    "plt.bar(science_df['pos'], science_df['+ percent'],  color='red', edgecolor='red', lw=2)\n",
    "\n",
    "for region in region_domains:\n",
    "    plt.axvspan(region_domains[region][0], region_domains[region][1], alpha=0.2, \n",
    "                label=region, color=region_domains[region][2])\n",
    "\n",
    "plt.ylabel('+ response (%)')\n",
    "plt.legend(bbox_to_anchor=(1,0.5))\n",
    "\n",
    "### B. SFCs\n",
    "plt.subplot(2,1,2)\n",
    "\n",
    "plt.bar(science_df['pos'], science_df['SFC (10^6 PBMC)'], \n",
    "        color='purple', edgecolor='purple', lw=2)\n",
    "\n",
    "# region colors\n",
    "for region in region_domains:\n",
    "    plt.axvspan(region_domains[region][0], region_domains[region][1], alpha=0.2, \n",
    "                label=region, color=region_domains[region][2])\n",
    "\n",
    "plt.ylabel('SFC (10^6 PBMC)'), plt.xlabel('SARS CoV-2 spike protein positions')\n",
    "\n",
    "# formats\n",
    "savepath = '../data/figures/Fig4.pdf'\n",
    "print('Saving to {}'.format(savepath))\n",
    "plt.savefig(savepath, bbox_inches='tight')\n",
    "plt.show()"
   ]
  },
  {
   "cell_type": "code",
   "execution_count": null,
   "metadata": {},
   "outputs": [],
   "source": []
  }
 ],
 "metadata": {
  "kernelspec": {
   "display_name": "Python 3",
   "language": "python",
   "name": "python3"
  },
  "language_info": {
   "codemirror_mode": {
    "name": "ipython",
    "version": 3
   },
   "file_extension": ".py",
   "mimetype": "text/x-python",
   "name": "python",
   "nbconvert_exporter": "python",
   "pygments_lexer": "ipython3",
   "version": "3.6.8"
  }
 },
 "nbformat": 4,
 "nbformat_minor": 4
}
